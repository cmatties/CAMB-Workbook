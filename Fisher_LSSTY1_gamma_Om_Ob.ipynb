{
 "cells": [
  {
   "cell_type": "markdown",
   "metadata": {
    "editable": true,
    "slideshow": {
     "slide_type": ""
    },
    "tags": []
   },
   "source": [
    "# Fisher forecast for LSST-Y1 3x2-point constraint on LCDM and beyond-LCDM parameters\n",
    "\n",
    "In this notebook we use [```jax-cosmo```](https://github.com/DifferentiableUniverseInitiative/jax_cosmo) to perform a Fisher forecast for the constraint on standard andd non-standard cosmological parameters from LSST Y1 data. The cosmological parameters include:\n",
    "\n",
    "$[\\Omega_m,\\Omega_b,h,n_s,S_8,w_0,w_a,\\gamma_0,\\gamma_1]$\n",
    "\n",
    "where $[\\Omega_m,\\Omega_b,h,n_s,S_8]$ are the standard, i.e. $\\Lambda$CDM parameters,\n",
    "\n",
    "while $[w_0,w_a]$ are the DE equation of state parameters, $w(a)=w_0+w_a(1-a)=w_0+w_a\\frac{z}{1+z}$ [[1]](https://arxiv.org/abs/astro-ph/0208512),\n",
    "\n",
    "and $[\\gamma_0,\\gamma_1]$ are the growth-index parameters, $\\gamma(z)=\\gamma_0+\\gamma_1\\frac{z^2}{1+z}$ [[2]](https://arxiv.org/abs/2304.07281).\n",
    "\n",
    "This is part of the project documented in [[3]](https://www.overleaf.com/read/tmggbrcfsncd) on Overleaf."
   ]
  },
  {
   "cell_type": "markdown",
   "metadata": {},
   "source": [
    "## Load the python modules"
   ]
  },
  {
   "cell_type": "code",
   "execution_count": 1,
   "metadata": {
    "editable": true,
    "slideshow": {
     "slide_type": ""
    },
    "tags": []
   },
   "outputs": [],
   "source": [
    "## os library for computer path\n",
    "import os.path\n",
    "\n",
    "## numpy library\n",
    "import numpy as np\n",
    "\n",
    "## jax library for autodiff\n",
    "import jax\n",
    "## enable x64\n",
    "jax.config.update(\"jax_enable_x64\", True)\n",
    "import jax.numpy as np\n",
    "## jax-cosmo library - main driver for producing observables and fisher forecasts\n",
    "import jax_cosmo as jc\n",
    "## CCL library - DES official library, serves a cross-check of the Fisher matrix stability in jax-cosmo\n",
    "import pyccl as ccl\n",
    "\n",
    "## astropy module to handle fits file\n",
    "from astropy.io import fits\n",
    "\n",
    "## matplotlib library\n",
    "import matplotlib\n",
    "from matplotlib.ticker import MultipleLocator, FormatStrFormatter # for tick format\n",
    "from matplotlib import cm # for colormaps\n",
    "from matplotlib.patches import Ellipse\n",
    "import matplotlib.pyplot as plt\n",
    "## personal preference for matplotlib fonts\n",
    "plt.rcParams.update({\n",
    "    \"text.usetex\": True,\n",
    "    \"font.family\": \"sans-serif\",\n",
    "    \"font.sans-serif\": \"Computer Modern\",\n",
    "    \"font.size\": 22})"
   ]
  },
  {
   "cell_type": "markdown",
   "metadata": {},
   "source": [
    "## Generate the redshift distributions"
   ]
  },
  {
   "cell_type": "markdown",
   "metadata": {},
   "source": [
    "### Generate source and lens n(z)"
   ]
  },
  {
   "cell_type": "markdown",
   "metadata": {
    "editable": true,
    "slideshow": {
     "slide_type": ""
    },
    "tags": []
   },
   "source": [
    "We follow the updated analysis/modeling choices and parameters on LSST-DESC srd [repo](https://github.com/LSSTDESC/forecasting/blob/main/desc_srd/SRD_data_vectors/SRD%20parameters/lsst_desc_parameters.yaml). We use a Smail redshift distribution for galaxies\n",
    "$$n(z)\\propto z^2\\mathrm{exp}[-(z/z_0)^\\alpha],$$\n",
    "divided into 5 tomographic bins. For the lens galaxies, we take $(\\alpha,z_0) = (.94,.26)$ with an effective number density $n_\\mathrm{eff} = 18 \\text{ arcmin}^{-2}.$ For the source galaxies, we take $(\\alpha,z_0) = (.870,.191)$ and $n_\\mathrm{eff} = 11.2\\text{ arcmin}^{-2}.$ We then divide each distribution into 5 tomographic bins with an equal number of galaxies, and then convolve each bin with a Gaussian photo-z uncertainty of .05(1+z) for sources and .02(1+z) for lenses."
   ]
  },
  {
   "cell_type": "code",
   "execution_count": 35,
   "metadata": {
    "editable": true,
    "slideshow": {
     "slide_type": ""
    },
    "tags": []
   },
   "outputs": [],
   "source": [
    "n_source_eff = 10.\n",
    "n_lens_eff = 18.\n",
    "\n",
    "# These are the proper n(z) that give NaN in the jacobian.\n",
    "# smail_nz(a,b,z0) where z^a*exp[-(z/z0)**b]\n",
    "nz_s = jc.redshift.smail_nz(2, .78, 0.13, gals_per_arcmin2 = n_source_eff)\n",
    "nz_l = jc.redshift.smail_nz(2, .94, .26, gals_per_arcmin2=n_lens_eff)\n",
    "\n",
    "# NaNs in the jacobian disappear when we use these total n(z),` for example.\n",
    "#nz_s = jc.redshift.smail_nz(2,2,.191, n_gals_per_armin2=n_source_eff)\n",
    "#nz_l = jc.redshift.smail_nz(2,2,.26, n_gals_per_armin2=n_lens_eff)"
   ]
  },
  {
   "cell_type": "markdown",
   "metadata": {
    "editable": true,
    "slideshow": {
     "slide_type": ""
    },
    "tags": []
   },
   "source": [
    "### Retrieve $n(z)$ and $z$ files"
   ]
  },
  {
   "cell_type": "code",
   "execution_count": 36,
   "metadata": {
    "editable": true,
    "slideshow": {
     "slide_type": ""
    },
    "tags": []
   },
   "outputs": [],
   "source": [
    "data_https='https://raw.githubusercontent.com/MinhMPA/forecasting/main/updated_forecasts/datafiles/z_bins'"
   ]
  },
  {
   "cell_type": "markdown",
   "metadata": {
    "editable": true,
    "slideshow": {
     "slide_type": ""
    },
    "tags": []
   },
   "source": [
    "#### Unbinned $z$"
   ]
  },
  {
   "cell_type": "code",
   "execution_count": 37,
   "metadata": {
    "editable": true,
    "slideshow": {
     "slide_type": ""
    },
    "tags": []
   },
   "outputs": [],
   "source": [
    "LSSTY1_unbinned_z_file='z_values_unbinned.txt'\n",
    "if not os.path.isfile(LSSTY1_unbinned_z_file):\n",
    "    !wget -O \"$LSSTY1_unbinned_z_file\" \"$data_https\"/\"$LSSTY1_unbinned_z_file\""
   ]
  },
  {
   "cell_type": "markdown",
   "metadata": {
    "editable": true,
    "slideshow": {
     "slide_type": ""
    },
    "tags": []
   },
   "source": [
    "#### Lens sample"
   ]
  },
  {
   "cell_type": "code",
   "execution_count": 38,
   "metadata": {
    "editable": true,
    "slideshow": {
     "slide_type": ""
    },
    "tags": []
   },
   "outputs": [],
   "source": [
    "LSSTY1_lens_z_file='z_bin_centers_y1_lens.txt'\n",
    "if not os.path.isfile(LSSTY1_lens_z_file):\n",
    "    !wget -O \"$LSSTY1_lens_z_file\" \"$data_https\"/\"$LSSTY1_lens_z_file\""
   ]
  },
  {
   "cell_type": "code",
   "execution_count": 39,
   "metadata": {
    "editable": true,
    "slideshow": {
     "slide_type": ""
    },
    "tags": []
   },
   "outputs": [],
   "source": [
    "LSSTY1_lens_nz_file='nz_y1_lens.txt'\n",
    "if not os.path.isfile(LSSTY1_lens_nz_file):\n",
    "    !wget -O \"$LSSTY1_lens_nz_file\" \"$data_https\"/\"$LSSTY1_lens_nz_file\""
   ]
  },
  {
   "cell_type": "markdown",
   "metadata": {
    "editable": true,
    "slideshow": {
     "slide_type": ""
    },
    "tags": []
   },
   "source": [
    "#### Source sample"
   ]
  },
  {
   "cell_type": "code",
   "execution_count": 40,
   "metadata": {
    "editable": true,
    "slideshow": {
     "slide_type": ""
    },
    "tags": []
   },
   "outputs": [],
   "source": [
    "LSSTY1_source_z_file='z_bin_centers_y1_source.txt'\n",
    "if not os.path.isfile(LSSTY1_source_z_file):\n",
    "    !wget -O \"$LSSTY1_source_z_file\" \"$data_https\"/\"$LSSTY1_source_z_file\""
   ]
  },
  {
   "cell_type": "code",
   "execution_count": 41,
   "metadata": {
    "editable": true,
    "slideshow": {
     "slide_type": ""
    },
    "tags": []
   },
   "outputs": [],
   "source": [
    "LSSTY1_source_nz_file='nz_y1_source.txt'\n",
    "if not os.path.isfile(LSSTY1_source_nz_file):\n",
    "    !wget \"$LSSTY1_source_nz_file\" \"$data_https\"/\"$LSSTY1_source_nz_file\""
   ]
  },
  {
   "cell_type": "markdown",
   "metadata": {
    "editable": true,
    "slideshow": {
     "slide_type": ""
    },
    "tags": []
   },
   "source": [
    "### Estimate $n(z)$ in bins from $n(z)$ and $z$ data"
   ]
  },
  {
   "cell_type": "code",
   "execution_count": 42,
   "metadata": {
    "editable": true,
    "slideshow": {
     "slide_type": ""
    },
    "tags": []
   },
   "outputs": [],
   "source": [
    "from numpy import loadtxt\n",
    "\n",
    "zs = loadtxt(LSSTY1_unbinned_z_file)"
   ]
  },
  {
   "cell_type": "markdown",
   "metadata": {
    "editable": true,
    "slideshow": {
     "slide_type": ""
    },
    "tags": []
   },
   "source": [
    "#### Lens sample"
   ]
  },
  {
   "cell_type": "code",
   "execution_count": 71,
   "metadata": {
    "editable": true,
    "slideshow": {
     "slide_type": ""
    },
    "tags": []
   },
   "outputs": [],
   "source": [
    "## Specify the numbers of bins here\n",
    "lens_nbins=5\n",
    "\n",
    "zbin_center_l = loadtxt(LSSTY1_lens_z_file)\n",
    "zbin_edge_l = [0.2,]\n",
    "for i in range(lens_nbins):\n",
    "    zbin_edge_l.append(2.*(zbin_center_l[i]-zbin_edge_l[-1])+zbin_edge_l[-1])\n",
    "zbin_edge_l=np.asarray(zbin_edge_l)\n",
    "zbin_width_l=zbin_edge_l[1:]-zbin_edge_l[:-1]\n",
    "binned_nz_l = [loadtxt(LSSTY1_lens_nz_file, usecols=i) for i in range(lens_nbins)]\n",
    "\n",
    "## Currently adopting the same values for both MagLim and redMaGiC samples\n",
    "KDE_bw_s=0.03 # bandwidth of the KDE\n",
    "KDE_zmax_l=1.2 # the cutoff redshift for lens samples in the KDE\n",
    "\n",
    "nzs_l = [jc.redshift.kde_nz(zs.astype('float64'),\n",
    "                        binned_nz_l[i].astype('float64'), \n",
    "                        bw=KDE_bw_s,\n",
    "                        bwz_scale=1.0,\n",
    "                        gals_per_arcmin2=nz_l(zbin_center_l[i]),\n",
    "                        zmax=KDE_zmax_l)\n",
    "       for i in range(lens_nbins)]"
   ]
  },
  {
   "cell_type": "markdown",
   "metadata": {
    "editable": true,
    "slideshow": {
     "slide_type": ""
    },
    "tags": []
   },
   "source": [
    "#### Source sample"
   ]
  },
  {
   "cell_type": "code",
   "execution_count": 72,
   "metadata": {
    "editable": true,
    "slideshow": {
     "slide_type": ""
    },
    "tags": []
   },
   "outputs": [],
   "source": [
    "## Specify the numbers of bins here\n",
    "source_nbins=5\n",
    "\n",
    "zbin_center_s = loadtxt(LSSTY1_source_z_file)\n",
    "zbin_edge_s = [0.2,]\n",
    "for i in range(source_nbins):\n",
    "    zbin_edge_s.append(2.*(zbin_edge_s[i]-zbin_edge_s[-1])+zbin_edge_s[-1])\n",
    "zbin_edge_s=np.asarray(zbin_edge_s)\n",
    "zbin_width_s=zbin_edge_s[1:]-zbin_edge_s[:-1]\n",
    "binned_nz_s = [loadtxt(LSSTY1_source_nz_file, usecols=i) for i in range(source_nbins)]\n",
    "\n",
    "## Currently adopting the same values for both MagLim and redMaGiC samples\n",
    "KDE_bw_l=0.05 # bandwidth of the KDE\n",
    "KDE_zmax_s=zs.max() # the cutoff redshift for source samples in the KDE\n",
    "\n",
    "nzs_s = [jc.redshift.kde_nz(zs.astype('float64'),\n",
    "                        binned_nz_s[i].astype('float64'), \n",
    "                        bw=KDE_bw_l,\n",
    "                        bwz_scale=1.0,\n",
    "                        gals_per_arcmin2=nz_s(zbin_center_s[i]),\n",
    "                        zmax=KDE_zmax_s)\n",
    "       for i in range(source_nbins)]"
   ]
  },
  {
   "cell_type": "code",
   "execution_count": 73,
   "metadata": {
    "editable": true,
    "slideshow": {
     "slide_type": ""
    },
    "tags": []
   },
   "outputs": [],
   "source": [
    "## Some reference z and n(z) bins for LSST Y1 source sample\n",
    "\n",
    "nzs_filename='nz_y1_srcs_5bins_srd.txt'\n",
    "\n",
    "test_zs=np.array(loadtxt(nzs_filename,usecols=0))\n",
    "test_nzs=[np.array(loadtxt(nzs_filename,usecols=i+1)) for i in range(source_nbins)]\n",
    "ngals_s = [16.9477,16.8907,17.0179,16.9463,16.9608]\n",
    "\n",
    "nzs_s = [jc.redshift.kde_nz(test_zs.astype('float32'),\n",
    "                        test_nzs[i].astype('float32'), \n",
    "                        bw=KDE_bw_s,\n",
    "                        gals_per_arcmin2=ngals_s[i],\n",
    "                        zmax=KDE_zmax_s)\n",
    "       for i in range(source_nbins)]"
   ]
  },
  {
   "cell_type": "code",
   "execution_count": 74,
   "metadata": {
    "editable": true,
    "slideshow": {
     "slide_type": ""
    },
    "tags": []
   },
   "outputs": [
    {
     "data": {
      "image/png": "[encoded data removed]",
      "text/plain": [
       "<Figure size 1000x1500 with 2 Axes>"
      ]
     },
     "metadata": {},
     "output_type": "display_data"
    }
   ],
   "source": [
    "z = np.linspace(0.,3., 300)\n",
    "fig, ax = plt.subplots(2,1, figsize=(10,15))\n",
    "for i in range(min(len(nzs_s), len(nzs_l))):\n",
    "    ax[0].plot(z, nzs_s[i](z), label='fid., Bin '+str(i+1))\n",
    "    ax[0].plot(test_zs, test_nzs[i], ls='--',label='ref., Bin '+str(i+1))\n",
    "    ax[0].axvline(x=zbin_center_s[i],ls=':',c='silver')\n",
    "    ax[1].plot(z, nzs_l[i](z), label='Bin '+str(i+1))\n",
    "    ax[1].axvline(x=zbin_center_l[i],ls=':',c='silver')\n",
    "    ax[0].set_xlim(0.,3.)\n",
    "    ax[1].set_xlim(0.,3.)\n",
    "    ax[0].set_title('Source')\n",
    "    ax[0].legend(frameon=False)\n",
    "    ax[1].set_title('Lens')\n",
    "    ax[1].legend(frameon=False)\n",
    "    ax[0].set_ylabel(r'$n(z)$')\n",
    "    ax[1].set_ylabel(r'$n(z)$')\n",
    "    ax[0].set_xlabel(r'z')\n",
    "    ax[1].set_xlabel(r'z')"
   ]
  },
  {
   "cell_type": "code",
   "execution_count": 75,
   "metadata": {
    "editable": true,
    "slideshow": {
     "slide_type": ""
    },
    "tags": []
   },
   "outputs": [],
   "source": [
    "#print(jc.scipy.integrate.romb(n_source_total, 0, .4509))"
   ]
  },
  {
   "cell_type": "markdown",
   "metadata": {
    "editable": true,
    "slideshow": {
     "slide_type": ""
    },
    "tags": []
   },
   "source": [
    "## Define utility functions that are not yet supported by jax-cosmo but useful for DES analyses "
   ]
  },
  {
   "cell_type": "markdown",
   "metadata": {
    "editable": true,
    "slideshow": {
     "slide_type": ""
    },
    "tags": []
   },
   "source": [
    "### Specify standard input parameter(s)"
   ]
  },
  {
   "cell_type": "code",
   "execution_count": 76,
   "metadata": {
    "editable": true,
    "slideshow": {
     "slide_type": ""
    },
    "tags": []
   },
   "outputs": [],
   "source": [
    "## The number of cosmological parameters in the parameter vector, i.e. the number of cosmo parameters we vary\n",
    "cosmo_param_nr=5"
   ]
  },
  {
   "cell_type": "code",
   "execution_count": 77,
   "metadata": {
    "editable": true,
    "slideshow": {
     "slide_type": ""
    },
    "tags": []
   },
   "outputs": [],
   "source": [
    "import matplotlib.pyplot as plt\n",
    "from matplotlib.patches import Ellipse\n",
    "from jax.scipy.linalg import eigh, inv\n",
    "from jax.scipy.stats import norm\n",
    "\n",
    "def plot_contours(cov, pos, inds, cls=np.array([0.6827, 0.9545]), ax=None, **kwargs):\n",
    "    \"\"\"\n",
    "    Plot 2D parameter contours given a Hessian matrix of the likelihood\n",
    "    Parameters:\n",
    "    -----------\n",
    "    fisher : (M, M) array_like\n",
    "        Input Fisher matrix.\n",
    "    pos : (M,) array_like\n",
    "        Fiducial parameter values.\n",
    "    inds : (2,) array_like\n",
    "        Parameter indices.\n",
    "    cl1, cl2 : float\n",
    "        Confidence levels of ellipse contours.\n",
    "    \"\"\"\n",
    "    \n",
    "    def eigsorted(cov):\n",
    "        vals, vecs = eigh(cov)\n",
    "        order = vals.argsort()[::-1]\n",
    "        return vals[order], vecs[:, order]\n",
    "\n",
    "    def sigma_marg(cov, i):\n",
    "        return np.sqrt(cov[i, i])\n",
    "        \n",
    "    cov = cov[inds][:, inds]\n",
    "    vals, vecs = eigsorted(cov)\n",
    "    theta = np.degrees(np.arctan2(*vecs[:, 0][::-1]))\n",
    "    cls = .5*(1+cls)\n",
    "    nstds = norm.ppf(cls)\n",
    "    #nstd1 = norm.ppf(0.5 * (1 + cl1))\n",
    "    #nstd2 = norm.ppf(0.5 * (1 + cl2))\n",
    "\n",
    "    ellip1 = Ellipse(xy=pos[inds], width=2.0 * nstds[0] * np.sqrt(vals[0]),\n",
    "                     height=2.0 * nstds[0] * np.sqrt(vals[1]), angle=theta, alpha=0.8,**kwargs)\n",
    "    ellip2 = Ellipse(xy=pos[inds], width=2.0 * nstds[1] * np.sqrt(vals[0]),\n",
    "                     height=2.0 * nstds[1] * np.sqrt(vals[1]), angle=theta, alpha=0.2,**kwargs)\n",
    "    ellips=[ellip1,ellip2]\n",
    "\n",
    "    if ax is None:\n",
    "        ax = plt.gca()\n",
    "\n",
    "    for ellip in ellips:\n",
    "       ax.add_artist(ellip)\n",
    "\n",
    "    nstdmax = max(nstds)\n",
    "    sx = nstdmax * sigma_marg(cov, 0)\n",
    "    sy = nstdmax * sigma_marg(cov, 1)\n",
    "    ax.set_xlim(pos[inds[0]] - 1.5*sx, pos[inds[0]] + 1.5*sx)\n",
    "    ax.set_ylim(pos[inds[1]] - 1.5*sy, pos[inds[1]] + 1.5*sy)\n",
    "\n",
    "    return ellips\n",
    "\n",
    "def plot_Gaussian(cov, pos, ind, cl=0.9545, ax=None, **kwargs):\n",
    "  mu = pos[ind]\n",
    "  sigma = np.sqrt(cov[ind,ind])\n",
    "  if ax is None:\n",
    "    ax = plt.gca()\n",
    "  num = 100\n",
    "  if 'num' in kwargs.keys():\n",
    "     num = kwargs['num']\n",
    "  nstd = norm.ppf(.5*(1+cl))\n",
    "  x = np.linspace(mu-1.5*nstd*sigma, mu+1.5*nstd*sigma, num=num, endpoint=True)\n",
    "  N = np.exp(-.5*((x-mu)/sigma)**2)\n",
    "  ax.plot(x, N, **kwargs)\n",
    "  ax.set_xlim((x[0], x[-1]))\n",
    "\n",
    "\n",
    "## The correct way to have a varying number of cosmological parameters and number of z bins)\n",
    "## would have been inplementing variables controls that number and including some ```if``` statements\n",
    "## but for the sake of simplicity (and performance) in this example, we're not doing so\n",
    "## and instead specifying that number as a global variable directly above\n",
    "def get_params_vec(cosmo,  b_l, ia, dz_l, m_s, dz_s):\n",
    "#def get_params_vec(cosmo, b_l, dz_l):\n",
    "    \"\"\"\n",
    "    Packs cosmological and DES source and lens systematic parameters\n",
    "    into a single 1D parameter vector (stored in a numpy array)\n",
    "    \"\"\"\n",
    "    b1, b2, b3, b4, b5 = b_l\n",
    "    A, eta = ia\n",
    "    dz1_l, dz2_l, dz3_l, dz4_l, dz5_l = dz_l\n",
    "    m1, m2, m3, m4, m5 = m_s\n",
    "    dz1_s, dz2_s, dz3_s, dz4_s, dz5_s = dz_s\n",
    "    return np.array([ \n",
    "        # Cosmological parameters [Omega_m, Omega_b, h, S8, ns, gamma, w0, wa] \n",
    "        #cosmo.Omega_k,\n",
    "        cosmo.Omega_m, cosmo.Omega_b,\n",
    "        cosmo.h, cosmo.n_s, cosmo.S8,\n",
    "        #cosmo.w0, cosmo.wa,\n",
    "        #cosmo.gamma0, cosmo.gamma1,\n",
    "        # Lens - Galaxy bias\n",
    "        b1, b2, b3, b4, b5,\n",
    "        # Source - Galaxy IA\n",
    "        A, eta,\n",
    "        # Lens - Photometric redshift calibration systematics\n",
    "        dz1_l, dz2_l, dz3_l, dz4_l, dz5_l,\n",
    "        # Source - Shear measurement calibration systematics\n",
    "        m1, m2, m3, m4, m5,\n",
    "        # Source - Photometric redshift calibration systematics\n",
    "        dz1_s, dz2_s, dz3_s, dz4_s, dz5_s\n",
    "    ])\n",
    "\n",
    "def unpack_params_vec(params):\n",
    "    \"\"\"\n",
    "    Unpacks a 1D parameter vector (stored in a numpy array)\n",
    "    into cosmological and DES source and lens systematic parameters\n",
    "    \"\"\"\n",
    "    # Retrieve cosmology\n",
    "    cosmo = params[0:cosmo_param_nr]\n",
    "    b1,b2,b3,b4,b5 = params[cosmo_param_nr:cosmo_param_nr+5]\n",
    "    A = params[cosmo_param_nr+5]\n",
    "    eta = params[cosmo_param_nr+6]\n",
    "    dz1_l,dz2_l,dz3_l,dz4_l,dz5_l = params[cosmo_param_nr+7:cosmo_param_nr+12]\n",
    "    m1,m2,m3,m4,m5 = params[cosmo_param_nr+12:cosmo_param_nr+17]\n",
    "    dz1_s,dz2_s,dz3_s,dz4_s,dz5_s = params[cosmo_param_nr+17:cosmo_param_nr+22]\n",
    "    return cosmo, [b1,b2,b3,b4,b5],  [A, eta], [dz1_l,dz2_l,dz3_l,dz4_l,dz5_l], [m1,m2,m3,m4,m5], [dz1_s,dz2_s,dz3_s,dz4_s,dz5_s]\n",
    "\n",
    "## Uncomment these lines below to double-check the two function behaviors\n",
    "#p = get_params_vec(jc.Planck15(), [1.,2.,3.,4.], [5.,6.,7.,8.],\n",
    "              #[1., 2.,0.62],[0.0,0.0,0.0,0.0],[1.0,1.0,1.0,1.0])\n",
    "#print(unpack_params_vec(p))"
   ]
  },
  {
   "cell_type": "markdown",
   "metadata": {
    "editable": true,
    "slideshow": {
     "slide_type": ""
    },
    "tags": []
   },
   "source": [
    "## Define fiducial cosmological parameters and systematics parameters"
   ]
  },
  {
   "cell_type": "markdown",
   "metadata": {},
   "source": [
    "### Define fiducial cosmology"
   ]
  },
  {
   "cell_type": "markdown",
   "metadata": {},
   "source": [
    "#### Specify Planck18 best-fit cosmology"
   ]
  },
  {
   "cell_type": "markdown",
   "metadata": {},
   "source": [
    "See the ``Plik best fit'' column in Table 1 of [Planck 2018 paper](https://arxiv.org/abs/1807.06209)"
   ]
  },
  {
   "cell_type": "code",
   "execution_count": 78,
   "metadata": {
    "editable": true,
    "slideshow": {
     "slide_type": ""
    },
    "tags": []
   },
   "outputs": [],
   "source": [
    "PL18_h=0.6732\n",
    "PL18_omegac=0.12011/(PL18_h**2)\n",
    "PL18_omegab=0.022383/(PL18_h**2) # won't vary in this example\n",
    "PL18_sigma8=0.812\n",
    "PL18_ns=0.96605\n",
    "## Baseline PL18 assumes LCDM, hence omegak=0, w0=-1,wa=0. Here we specify but won't vary them in the forecasts\n",
    "PL18_omegak=0.0\n",
    "PL18_w0=-1.0\n",
    "PL18_wa=0.0\n",
    "## Gamma Extension\n",
    "## After cross-check the jax-cosmo Fisher contours with the counterparts from CCL, we can include gamma.\n",
    "## The reason not to include gamma in the comparison against CCL is because gamma is not available in CCL\n",
    "GR_gamma0=0.55\n",
    "GR_gamma1=0."
   ]
  },
  {
   "cell_type": "markdown",
   "metadata": {
    "editable": true,
    "slideshow": {
     "slide_type": ""
    },
    "tags": []
   },
   "source": [
    "#### Create a jax-cosmo Cosmology object for the fiducial cosmology"
   ]
  },
  {
   "cell_type": "code",
   "execution_count": 79,
   "metadata": {
    "editable": true,
    "slideshow": {
     "slide_type": ""
    },
    "tags": []
   },
   "outputs": [],
   "source": [
    "fid_cosmo = jc.Cosmology(Omega_m=PL18_omegac+PL18_omegab,\n",
    "                         Omega_c=PL18_omegac,\n",
    "                         Omega_b=PL18_omegab,\n",
    "                         h=PL18_h,\n",
    "                         n_s=PL18_ns,\n",
    "                         sigma8=PL18_sigma8,\n",
    "                         S8=PL18_sigma8*((PL18_omegac+PL18_omegab)/0.3)**0.5,\n",
    "                         Omega_k=PL18_omegak,w0=PL18_w0,wa=PL18_wa, gamma0=None, gamma1=None)\n",
    "                         #Omega_k=PL18_omegak,w0=PL18_w0,wa=PL18_wa, gamma0=GR_gamma0, gamma1=GR_gamma1)"
   ]
  },
  {
   "cell_type": "markdown",
   "metadata": {
    "editable": true,
    "slideshow": {
     "slide_type": ""
    },
    "tags": []
   },
   "source": [
    "### Specify sky fraction"
   ]
  },
  {
   "cell_type": "markdown",
   "metadata": {
    "editable": true,
    "slideshow": {
     "slide_type": ""
    },
    "tags": []
   },
   "source": [
    "Sky coverage in square degrees and fraction"
   ]
  },
  {
   "cell_type": "code",
   "execution_count": 80,
   "metadata": {
    "editable": true,
    "slideshow": {
     "slide_type": ""
    },
    "tags": []
   },
   "outputs": [],
   "source": [
    "full_sky=41252.9612  # full sky in square degrees\n",
    "lsst_sky=18000  # LSST sky coverage; in square degrees\n",
    "lsst_fsky=lsst_sky/full_sky  # fraction of the sky covered by LSST"
   ]
  },
  {
   "cell_type": "markdown",
   "metadata": {
    "editable": true,
    "slideshow": {
     "slide_type": ""
    },
    "tags": []
   },
   "source": [
    "### Specify systematic parameters for source galaxies"
   ]
  },
  {
   "cell_type": "markdown",
   "metadata": {
    "editable": true,
    "slideshow": {
     "slide_type": ""
    },
    "tags": []
   },
   "source": [
    "There are three sources of systematics for source galaxies:\n",
    "\n",
    "- Shear measurement calibration error;\n",
    "- Photometric redshift (photo-z) calibration error;\n",
    "- Intrinsic Alignment (IA) of source galaxies with the underlying tidal field, hence themselves.\n"
   ]
  },
  {
   "cell_type": "markdown",
   "metadata": {
    "editable": true,
    "slideshow": {
     "slide_type": ""
    },
    "tags": []
   },
   "source": [
    "#### Shear measurement calibration systematics"
   ]
  },
  {
   "cell_type": "markdown",
   "metadata": {
    "editable": true,
    "slideshow": {
     "slide_type": ""
    },
    "tags": []
   },
   "source": [
    "We have five parameters $m^i$ for five redshift bins of the source samples.\n",
    "A priori, there is no particular preference for positive or negative shifts so we adopt zeros as fiducial values."
   ]
  },
  {
   "cell_type": "code",
   "execution_count": 81,
   "metadata": {
    "editable": true,
    "slideshow": {
     "slide_type": ""
    },
    "tags": []
   },
   "outputs": [],
   "source": [
    "m_s = [0.,0.,0.,0.,0.]"
   ]
  },
  {
   "cell_type": "markdown",
   "metadata": {
    "editable": true,
    "slideshow": {
     "slide_type": ""
    },
    "tags": []
   },
   "source": [
    "#### Photo-z calibration systematics"
   ]
  },
  {
   "cell_type": "markdown",
   "metadata": {
    "editable": true,
    "slideshow": {
     "slide_type": ""
    },
    "tags": []
   },
   "source": [
    "Similarly, we have four parameters $\\Delta z_s^i$ for four redshift bins of the source samples.A priori, there is no particular preference for positive or negative shifts so we adopt zeros as fiducial values."
   ]
  },
  {
   "cell_type": "code",
   "execution_count": 82,
   "metadata": {
    "editable": true,
    "slideshow": {
     "slide_type": ""
    },
    "tags": []
   },
   "outputs": [],
   "source": [
    "dz_s = [0.0,0.0,0.0,0.0,0.0]"
   ]
  },
  {
   "cell_type": "markdown",
   "metadata": {
    "editable": true,
    "slideshow": {
     "slide_type": ""
    },
    "tags": []
   },
   "source": [
    "#### Intrinsic Alignment (of source galaxies)"
   ]
  },
  {
   "cell_type": "markdown",
   "metadata": {
    "editable": true,
    "slideshow": {
     "slide_type": ""
    },
    "tags": []
   },
   "source": [
    "We use the NLA model for IA:\n",
    "$$A(z)=A_0\\left[\\frac{1+z}{1+z_0}\\right]^\\eta$$\n",
    "where the pivot redshift $z_0$ is fixed at 0.62.\n",
    "For fiducial values, we use the means of posteriors in the third row of Table 3 of [the DES Y3 cosmic shear paper](https://arxiv.org/pdf/2105.13544.pdf)"
   ]
  },
  {
   "cell_type": "code",
   "execution_count": 83,
   "metadata": {
    "editable": true,
    "slideshow": {
     "slide_type": ""
    },
    "tags": []
   },
   "outputs": [],
   "source": [
    "A0, eta = [.5, 0.]\n",
    "z0 = .62"
   ]
  },
  {
   "cell_type": "markdown",
   "metadata": {
    "editable": true,
    "slideshow": {
     "slide_type": ""
    },
    "tags": []
   },
   "source": [
    "### Specify systematic parameters for lens galaxies"
   ]
  },
  {
   "cell_type": "markdown",
   "metadata": {
    "editable": true,
    "slideshow": {
     "slide_type": ""
    },
    "tags": []
   },
   "source": [
    "There are two sources of systematics for lens galaxies:\n",
    "\n",
    "- Photometric redshift calibration error;\n",
    "- Galaxies are biased tracer of the underlying matter distribution."
   ]
  },
  {
   "cell_type": "markdown",
   "metadata": {
    "editable": true,
    "slideshow": {
     "slide_type": ""
    },
    "tags": []
   },
   "source": [
    "#### Photometric (Photo-z) calibration systematics"
   ]
  },
  {
   "cell_type": "markdown",
   "metadata": {
    "editable": true,
    "slideshow": {
     "slide_type": ""
    },
    "tags": []
   },
   "source": [
    "Here, we have five parameters $\\Delta z_l^i$ for five redshift bins of the lens samples. A priori, there is no particular preference for positive or negative shifts so we adopt zeros as fiducial values."
   ]
  },
  {
   "cell_type": "code",
   "execution_count": 84,
   "metadata": {
    "editable": true,
    "slideshow": {
     "slide_type": ""
    },
    "tags": []
   },
   "outputs": [],
   "source": [
    "dz_l = [0.,0.,0.,0.,0.]"
   ]
  },
  {
   "cell_type": "markdown",
   "metadata": {
    "editable": true,
    "slideshow": {
     "slide_type": ""
    },
    "tags": []
   },
   "source": [
    "#### Galaxy bias systematics"
   ]
  },
  {
   "cell_type": "markdown",
   "metadata": {
    "editable": true,
    "slideshow": {
     "slide_type": ""
    },
    "tags": []
   },
   "source": [
    "Here we adopt the fiducial values for the linear galaxy bias parameters $b^i_l$ of lens galaxies from the values assumed in LSST Science Requirement Document, section D1, page 48 ([arXiv:1809.01669](https://arxiv.org/abs/1809.01669))."
   ]
  },
  {
   "cell_type": "code",
   "execution_count": 85,
   "metadata": {
    "editable": true,
    "slideshow": {
     "slide_type": ""
    },
    "tags": []
   },
   "outputs": [],
   "source": [
    "b_l = [1.562362, 1.732963, 1.913252, 2.100644, 2.293210]\n",
    "#b_l =  [1.376695, 1.451179, 1.528404, 1.607983, 1.689579, 1.772899, 1.857700, 1.943754, 2.030887, 2.118943]"
   ]
  },
  {
   "cell_type": "markdown",
   "metadata": {
    "editable": true,
    "slideshow": {
     "slide_type": ""
    },
    "tags": []
   },
   "source": [
    "### Pack a parameter vector including both cosmological and systematic parameters"
   ]
  },
  {
   "cell_type": "code",
   "execution_count": 86,
   "metadata": {
    "editable": true,
    "slideshow": {
     "slide_type": ""
    },
    "tags": []
   },
   "outputs": [],
   "source": [
    "fid_params = get_params_vec(fid_cosmo,\n",
    "                            b_l,\n",
    "                            [A0, eta],\n",
    "                            dz_l,\n",
    "                            m_s,\n",
    "                            dz_s)"
   ]
  },
  {
   "cell_type": "markdown",
   "metadata": {
    "editable": true,
    "slideshow": {
     "slide_type": ""
    },
    "tags": []
   },
   "source": [
    "## Compute the mean of the 3x2-point data vector using the ```jax-cosmo``` library"
   ]
  },
  {
   "cell_type": "markdown",
   "metadata": {
    "editable": true,
    "slideshow": {
     "slide_type": ""
    },
    "tags": []
   },
   "source": [
    "### Specify standard input parameter(s) for the function"
   ]
  },
  {
   "cell_type": "code",
   "execution_count": 87,
   "metadata": {
    "editable": true,
    "slideshow": {
     "slide_type": ""
    },
    "tags": []
   },
   "outputs": [],
   "source": [
    "## Specify a range of multipole ell values\n",
    "ell_max=400.\n",
    "ell = np.logspace(1,np.log10(ell_max))"
   ]
  },
  {
   "cell_type": "markdown",
   "metadata": {
    "editable": true,
    "slideshow": {
     "slide_type": ""
    },
    "tags": []
   },
   "source": [
    "### Put everything together and define the ```jax-cosmo``` function using just-in-time compilations"
   ]
  },
  {
   "cell_type": "markdown",
   "metadata": {
    "editable": true,
    "slideshow": {
     "slide_type": ""
    },
    "tags": []
   },
   "source": [
    "We perform a quick visual inspection and plot the mean of the first $C(\\ell)$"
   ]
  },
  {
   "cell_type": "code",
   "execution_count": 93,
   "metadata": {
    "editable": true,
    "slideshow": {
     "slide_type": ""
    },
    "tags": []
   },
   "outputs": [],
   "source": [
    "@jax.jit\n",
    "def compute_3x2pt_mean(params,nzs_source,nzs_lens=nzs_l,ell=ell, zpivot_ia = z0):\n",
    "    \"\"\"\n",
    "    Returns the mean signal of a 3x2-point data vector\n",
    "    \"\"\"\n",
    "    ## First unpack parameter vector\n",
    "    cosmo_params, b_l, (A, eta), dz_l, m, dz_s = unpack_params_vec(params)\n",
    "    #cosmo_params, (A, eta), m, dz_s = unpack_params_vec(params)\n",
    "\n",
    "    ## Specify cosmology\n",
    "    cosmo = jc.Cosmology(Omega_m=cosmo_params[0],\n",
    "                         Omega_c=cosmo_params[0]-cosmo_params[1],\n",
    "                         Omega_b=cosmo_params[1],\n",
    "                         Omega_k=PL18_omegak,\n",
    "                         h=cosmo_params[2],\n",
    "                         n_s=cosmo_params[3],\n",
    "                         S8=cosmo_params[4], sigma8=cosmo_params[4]/(cosmo_params[0]/0.3)**0.5,\n",
    "                         w0=PL18_w0, wa=PL18_wa,\n",
    "                         gamma0=None, gamma1=None)\n",
    "                         #w0=cosmo_params[5], wa = cosmo_params[6],\n",
    "                         #gamma0=cosmo_params[7], gamma1=cosmo_params[8])\n",
    "    \n",
    "    ## Build source nz with redshift systematic bias\n",
    "    nzs_s_sys = [jc.redshift.systematic_shift(nzi, dzi) \n",
    "                for nzi, dzi in zip(nzs_source, dz_s)]\n",
    "    ## Define IA model\n",
    "    a_ia = jc.bias.des_y1_ia_bias(A, eta, zpivot_ia)\n",
    "    \n",
    "    ## Build lens nz with redshift systematic bias\n",
    "    nzs_l_sys = [jc.redshift.systematic_shift(nzi, dzi) \n",
    "                for nzi, dzi in zip(nzs_lens, dz_l)]\n",
    "    ## Bias for the lenses\n",
    "    b = [jc.bias.constant_linear_bias(bi) for bi in b_l] \n",
    "\n",
    "    ## Define the lensing and number counts probe\n",
    "    probes = [jc.probes.WeakLensing(nzs_s_sys, \n",
    "                                    ia_bias=a_ia,\n",
    "                                    multiplicative_bias=m),\n",
    "             jc.probes.NumberCounts(nzs_l_sys, b)]\n",
    "\n",
    "    cl = jc.angular_cl.angular_cl(cosmo, ell, probes)\n",
    "\n",
    "    return cl.flatten()"
   ]
  },
  {
   "cell_type": "markdown",
   "metadata": {
    "editable": true,
    "slideshow": {
     "slide_type": ""
    },
    "tags": []
   },
   "source": [
    "### Call the function for the first time, so there will be some waiting for compilation"
   ]
  },
  {
   "cell_type": "code",
   "execution_count": 90,
   "metadata": {
    "editable": true,
    "slideshow": {
     "slide_type": ""
    },
    "tags": []
   },
   "outputs": [],
   "source": [
    "means = compute_3x2pt_mean(fid_params,nzs_s)\n",
    "#%timeit compute_3x2pt_mean(fid_params,nzs_s).block_until_ready()"
   ]
  },
  {
   "cell_type": "code",
   "execution_count": 91,
   "metadata": {
    "editable": true,
    "slideshow": {
     "slide_type": ""
    },
    "tags": []
   },
   "outputs": [
    {
     "data": {
      "text/plain": [
       "Text(0, 0.5, '$\\\\ell C_\\\\ell$')"
      ]
     },
     "execution_count": 91,
     "metadata": {},
     "output_type": "execute_result"
    },
    {
     "data": {
      "image/png": "[encoded data removed]",
      "text/plain": [
       "<Figure size 640x480 with 1 Axes>"
      ]
     },
     "metadata": {},
     "output_type": "display_data"
    }
   ],
   "source": [
    "fig, ax = plt.subplots()\n",
    "ax.loglog(ell,ell*means[0])\n",
    "ax.set_xlabel(r'$\\ell$')\n",
    "ax.set_ylabel(r'$\\ell C_\\ell$')\n",
    "#ax.set_ylim(1e-20,1e-3)\n",
    "#ax.axhline(y=1E-9,ls='--',c='k')\n",
    "#ax.axvline(x=1E2,ls='--',c='k')"
   ]
  },
  {
   "cell_type": "markdown",
   "metadata": {
    "editable": true,
    "slideshow": {
     "slide_type": ""
    },
    "tags": []
   },
   "source": [
    "## Compute the covariance at the fiducial cosmology using ```jax-cosmo```"
   ]
  },
  {
   "cell_type": "markdown",
   "metadata": {},
   "source": [
    "### Define the function"
   ]
  },
  {
   "cell_type": "code",
   "execution_count": 94,
   "metadata": {
    "editable": true,
    "slideshow": {
     "slide_type": ""
    },
    "tags": []
   },
   "outputs": [],
   "source": [
    "@jax.jit\n",
    "def compute_gaussian_covariance(params,nzs_source,nzs_lens=nzs_l,ell=ell,f_sky=0.25, zpivot_ia=z0):\n",
    "    \"\"\"\n",
    "    Rerturns the Gaussian covariance for a 3x2pt data vector\n",
    "    \"\"\"\n",
    "## First unpack parameter vector\n",
    "    cosmo_params, b_l, (A, eta), dz_l, m, dz_s = unpack_params_vec(params)\n",
    "    #cosmo_params, (A, eta), m, dz_s = unpack_params_vec(params)\n",
    "\n",
    "    ## Specify cosmology\n",
    "    cosmo = jc.Cosmology(Omega_m=cosmo_params[0],\n",
    "                         Omega_c=cosmo_params[0]-cosmo_params[1],\n",
    "                         Omega_b=cosmo_params[1],\n",
    "                         Omega_k=PL18_omegak,\n",
    "                         h=cosmo_params[2],\n",
    "                         n_s=cosmo_params[3],\n",
    "                         S8=cosmo_params[4], sigma8=cosmo_params[4]/(cosmo_params[0]/0.3)**0.5,\n",
    "                         w0=PL18_w0, wa=PL18_wa,\n",
    "                         gamma0=None, gamma1=None)\n",
    "                         #w0=cosmo_params[5], wa = cosmo_params[6],\n",
    "                         #gamma0=cosmo_params[7], gamma1=cosmo_params[8])\n",
    "    \n",
    "    ## Build source nz with redshift systematic bias\n",
    "    nzs_s_sys = [jc.redshift.systematic_shift(nzi, dzi) \n",
    "                for nzi, dzi in zip(nzs_source, dz_s)]\n",
    "    ## Define IA model\n",
    "    a_ia = jc.bias.des_y1_ia_bias(A, eta, zpivot_ia)\n",
    "    \n",
    "    ## Build lens nz with redshift systematic bias\n",
    "    nzs_l_sys = [jc.redshift.systematic_shift(nzi, dzi) \n",
    "                for nzi, dzi in zip(nzs_lens, dz_l)]\n",
    "    ## Bias for the lenses\n",
    "    b = [jc.bias.constant_linear_bias(bi) for bi in b_l]\n",
    "\n",
    "    ## Define the lensing and number counts probe\n",
    "    probes = [jc.probes.WeakLensing(nzs_s_sys, \n",
    "                                    ia_bias=a_ia,\n",
    "                                    multiplicative_bias=m),\n",
    "             jc.probes.NumberCounts(nzs_l_sys, b)]\n",
    "    \n",
    "    cl_signal = jc.angular_cl.angular_cl(cosmo, ell, probes)\n",
    "    cl_noise = jc.angular_cl.noise_cl(ell, probes)\n",
    "    \n",
    "    cov = jc.angular_cl.gaussian_cl_covariance(ell, probes, cl_signal, cl_noise, f_sky=f_sky, sparse=False)\n",
    "    \n",
    "    return cov"
   ]
  },
  {
   "cell_type": "markdown",
   "metadata": {
    "editable": true,
    "slideshow": {
     "slide_type": ""
    },
    "tags": []
   },
   "source": [
    "### Call the function to get the covariance and compute its inverse"
   ]
  },
  {
   "cell_type": "markdown",
   "metadata": {
    "editable": true,
    "slideshow": {
     "slide_type": ""
    },
    "tags": []
   },
   "source": [
    "The inverse of the covariance matrix is usually referred to as the *precision matrix*."
   ]
  },
  {
   "cell_type": "code",
   "execution_count": 95,
   "metadata": {
    "editable": true,
    "slideshow": {
     "slide_type": ""
    },
    "tags": []
   },
   "outputs": [],
   "source": [
    "cov_mat = compute_gaussian_covariance(fid_params,nzs_s, f_sky = lsst_fsky)\n",
    "prc_mat = np.linalg.inv(cov_mat)"
   ]
  },
  {
   "cell_type": "markdown",
   "metadata": {
    "editable": true,
    "slideshow": {
     "slide_type": ""
    },
    "tags": []
   },
   "source": [
    "## Compute the Jacobian using jax-cosmo"
   ]
  },
  {
   "cell_type": "markdown",
   "metadata": {
    "editable": true,
    "slideshow": {
     "slide_type": ""
    },
    "tags": []
   },
   "source": [
    "We wrote a function to compute the mean of the 3x2-point data vector. We can use that to compute the Jacobian using ```jax-cosmo```"
   ]
  },
  {
   "cell_type": "markdown",
   "metadata": {
    "editable": true,
    "slideshow": {
     "slide_type": ""
    },
    "tags": []
   },
   "source": [
    "Let's redefine the function to compute the mean data vector above, this time flatten the output."
   ]
  },
  {
   "cell_type": "code",
   "execution_count": 96,
   "metadata": {
    "editable": true,
    "slideshow": {
     "slide_type": ""
    },
    "tags": []
   },
   "outputs": [],
   "source": [
    "# Defining jax-cosmo jacobian\n",
    "compute_3x2pt_jac = jax.jit(jax.jacfwd(compute_3x2pt_mean))\n",
    "#compute_3x2pt_jac = jax.jacfwd(compute_3x2pt_mean)"
   ]
  },
  {
   "cell_type": "code",
   "execution_count": null,
   "metadata": {
    "editable": true,
    "scrolled": true,
    "slideshow": {
     "slide_type": ""
    },
    "tags": []
   },
   "outputs": [],
   "source": [
    "jacobian = compute_3x2pt_jac(fid_params,nzs_s)\n",
    "#%timeit compute_3x2pt_jac(fid_params,nzs_s).block_until_ready()"
   ]
  },
  {
   "cell_type": "markdown",
   "metadata": {
    "editable": true,
    "slideshow": {
     "slide_type": ""
    },
    "tags": []
   },
   "source": [
    "## Compute Fisher matrix"
   ]
  },
  {
   "cell_type": "code",
   "execution_count": null,
   "metadata": {
    "editable": true,
    "slideshow": {
     "slide_type": ""
    },
    "tags": []
   },
   "outputs": [],
   "source": [
    "## Take the matrix product\n",
    "#del(fisher)\n",
    "fisher = jacobian.T @ prc_mat @ jacobian\n",
    "print(fisher.shape)"
   ]
  },
  {
   "cell_type": "code",
   "execution_count": null,
   "metadata": {
    "editable": true,
    "slideshow": {
     "slide_type": ""
    },
    "tags": []
   },
   "outputs": [],
   "source": [
    "lens_photoz_priors = (1./(3e-2*(1.+zbin_center_l))**2)\n",
    "fisher=fisher.at[cosmo_param_nr+7:cosmo_param_nr+12,cosmo_param_nr+7:cosmo_param_nr+12].add(lens_photoz_priors);\n",
    "\n",
    "shear_calibration_priors = (1./(1.3e-2)**2)*np.ones((5,))\n",
    "fisher=fisher.at[cosmo_param_nr+12:cosmo_param_nr+17,cosmo_param_nr+12:cosmo_param_nr+17].add(shear_calibration_priors);\n",
    "\n",
    "source_photoz_priors = (1./(5e-2*(1.+zbin_center_l))**2)\n",
    "fisher=fisher.at[cosmo_param_nr+17:cosmo_param_nr+22,cosmo_param_nr+17:cosmo_param_nr+22].add(source_photoz_priors);"
   ]
  },
  {
   "cell_type": "code",
   "execution_count": null,
   "metadata": {
    "editable": true,
    "slideshow": {
     "slide_type": ""
    },
    "tags": []
   },
   "outputs": [],
   "source": [
    "#Methods to easily save and load fisher matrices to storage\n",
    "from numpy import savetxt, loadtxt\n",
    "\n",
    "def saveFisher(fid_vals, fisher, fname='LCDM_S8_LSSTY1_fisher.csv', delimiter=',', **kwargs):\n",
    "   mat = np.append(fisher, np.reshape(fid_vals, (1, fisher.shape[0])), axis=0)\n",
    "   savetxt(fname, mat, delimiter=delimiter, **kwargs)\n",
    "\n",
    "\n",
    "def loadFisher(fname : str, delimiter=',', **kwargs):\n",
    "   mat = loadtxt(fname, delimiter=delimiter, **kwargs)\n",
    "   fisher = mat[:mat.shape[1], :mat.shape[1]]\n",
    "   fid_vals = mat[mat.shape[1], :]\n",
    "   return fid_vals, fisher"
   ]
  },
  {
   "cell_type": "code",
   "execution_count": null,
   "metadata": {
    "editable": true,
    "slideshow": {
     "slide_type": ""
    },
    "tags": []
   },
   "outputs": [],
   "source": [
    "saveFisher(fid_params, fisher, fname='LCDM_S8-Omegam_LSSTY1_fisher.csv')"
   ]
  },
  {
   "cell_type": "code",
   "execution_count": null,
   "metadata": {
    "editable": true,
    "slideshow": {
     "slide_type": ""
    },
    "tags": []
   },
   "outputs": [],
   "source": [
    "extract_params=5\n",
    "param_names = (r'$\\Omega_\\mathrm{m}$', r'$\\Omega_\\mathrm{b}$', 'h', r'$n_s$', r'$S_8$')\n",
    "               #r'$w_0$', r'$w_a$',\n",
    "               #r'$\\gamma_0$',r'$\\gamma_1$')\n",
    "               #r'$b_{l,1}$', r'$b_{l,2}$', r'$b_{l,3}$', r'$b_{l,4}$', r'$b_{l,5}$')\n",
    "\n",
    "fisher_inv = jax.scipy.linalg.inv(fisher)\n",
    "\n",
    "fig= plt.figure(figsize=(extract_params*1.5, extract_params*1.5))\n",
    "plt.rcParams.update({\n",
    "    \"font.size\": 10})\n",
    "plt.subplots_adjust(wspace=0.4, hspace=0.4)\n",
    "\n",
    "for i in range(extract_params):\n",
    "    for j in range(extract_params):\n",
    "        if j<i:\n",
    "            plt.subplot(extract_params,extract_params,i*extract_params+j+1)\n",
    "            plot_contours(fisher_inv, fid_params, np.array([j,i]),fill=True,antialiased=True,color='mediumseagreen')\n",
    "        if j==i:\n",
    "            plt.subplot(extract_params, extract_params, i*extract_params+j+1)\n",
    "            plot_Gaussian(fisher_inv, fid_params, i, color='mediumseagreen')\n",
    "        if i == extract_params - 1:\n",
    "            plt.xlabel(param_names[j])\n",
    "        if j == 0:\n",
    "            plt.ylabel(param_names[i])\n",
    "fig.suptitle(r'LSST Year-1 3x2-pt, priors on photo-z and shear calibration', fontsize=30)"
   ]
  },
  {
   "cell_type": "code",
   "execution_count": null,
   "metadata": {
    "editable": true,
    "slideshow": {
     "slide_type": ""
    },
    "tags": []
   },
   "outputs": [],
   "source": []
  }
 ],
 "metadata": {
  "kernelspec": {
   "display_name": "Python 3 (ipykernel)",
   "language": "python",
   "name": "python3"
  },
  "language_info": {
   "codemirror_mode": {
    "name": "ipython",
    "version": 3
   },
   "file_extension": ".py",
   "mimetype": "text/x-python",
   "name": "python",
   "nbconvert_exporter": "python",
   "pygments_lexer": "ipython3",
   "version": "3.11.4"
  }
 },
 "nbformat": 4,
 "nbformat_minor": 4
}
