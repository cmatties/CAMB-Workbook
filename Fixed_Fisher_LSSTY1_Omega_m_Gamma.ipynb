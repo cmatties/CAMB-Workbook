{
 "cells": [
  {
   "attachments": {},
   "cell_type": "markdown",
   "metadata": {},
   "source": [
    "# Perform Fisher forecast for LSST-Y1 data constraint on cosmological parameters\n",
    "\n",
    "In this notebook we use [```jax-cosmo```](https://github.com/DifferentiableUniverseInitiative/jax_cosmo) to perform a Fisher forecast for the constraint on cosmological parameters from an LSST-Y1 like survey."
   ]
  },
  {
   "attachments": {},
   "cell_type": "markdown",
   "metadata": {},
   "source": [
    "## Load the python modules"
   ]
  },
  {
   "cell_type": "code",
   "execution_count": 1,
   "metadata": {},
   "outputs": [],
   "source": [
    "## os library for computer path\n",
    "import os.path\n",
    "\n",
    "## numpy library\n",
    "import numpy as np\n",
    "\n",
    "## jax library for autodiff\n",
    "import jax\n",
    "## enable x64\n",
    "jax.config.update(\"jax_enable_x64\", True)\n",
    "import jax.numpy as np\n",
    "## jax-cosmo library - main driver for producing observables and fisher forecasts\n",
    "import jax_cosmo as jc\n",
    "## CCL library - DES official library, serves a cross-check of the Fisher matrix stability in jax-cosmo\n",
    "import pyccl as ccl\n",
    "\n",
    "## astropy module to handle fits file\n",
    "from astropy.io import fits\n",
    "\n",
    "## matplotlib library\n",
    "import matplotlib\n",
    "from matplotlib.ticker import MultipleLocator, FormatStrFormatter # for tick format\n",
    "from matplotlib import cm # for colormaps\n",
    "from matplotlib.patches import Ellipse\n",
    "import matplotlib.pyplot as plt\n",
    "## personal preference for matplotlib fonts\n",
    "plt.rcParams.update({\n",
    "    #\"text.usetex\": True,\n",
    "    #\"font.family\": \"sans-serif\",\n",
    "    #\"font.sans-serif\": \"Computer Modern\",\n",
    "    \"font.size\": 22})"
   ]
  },
  {
   "attachments": {},
   "cell_type": "markdown",
   "metadata": {},
   "source": [
    "## Generate the redshift distributions"
   ]
  },
  {
   "attachments": {},
   "cell_type": "markdown",
   "metadata": {},
   "source": [
    "### Generate source and lens n(z)"
   ]
  },
  {
   "attachments": {},
   "cell_type": "markdown",
   "metadata": {},
   "source": [
    "We follow Fang et al. ([2004.04833](https://arxiv.org/abs/2004.04833)) in using a Smail redshift distribution for galaxies\n",
    "$$n(z)\\propto z^2\\mathrm{exp}[-(z/z_0)^\\alpha],$$\n",
    "divided into 5 tomographic bins. For the lens galaxies, we take $(\\alpha,z_0) = (.94,.26)$ with an effective number density $n_\\mathrm{eff} = 18 \\text{ arcmin}^{-2}.$ For the source galaxies, we take $(\\alpha,z_0) = (.870,.191)$ and $n_\\mathrm{eff} = 11.2\\text{ arcmin}^{-2}.$ We then divide each distribution into 5 tomographic bins with an equal number of galaxies, and then convolve each bin with a Gaussian photo-z uncertainty of .05(1+z) for sources and .02(1+z) for lenses."
   ]
  },
  {
   "cell_type": "code",
   "execution_count": 5,
   "metadata": {},
   "outputs": [],
   "source": [
    "n_source_eff = 11.2\n",
    "n_lens_eff = 18.0\n",
    "\n",
    "# These are the proper n(z) that give NaN in the jacobian.\n",
    "# smail_nz(a,b,z0) where z^a*exp[-(z/z0)**b]\n",
    "nz_s = jc.redshift.smail_nz(2, .87, .191, gals_per_arcmin2 = n_source_eff)\n",
    "nz_l = jc.redshift.smail_nz(2, .94, .26, gals_per_arcmin2=n_lens_eff)\n",
    "\n",
    "# NaNs in the jacobian disappear when we use these total n(z),` for example.\n",
    "#nz_s = jc.redshift.smail_nz(2,2,.191, n_gals_per_armin2=n_source_eff)\n",
    "#nz_l = jc.redshift.smail_nz(2,2,.26, n_gals_per_armin2=n_lens_eff)"
   ]
  },
  {
   "cell_type": "markdown",
   "metadata": {},
   "source": [
    "### Retrieve $n(z)$ and $z$ files"
   ]
  },
  {
   "cell_type": "code",
   "execution_count": 6,
   "metadata": {},
   "outputs": [],
   "source": [
    "data_https='https://raw.githubusercontent.com/MinhMPA/forecasting/main/updated_forecasts/datafiles/z_bins'"
   ]
  },
  {
   "cell_type": "markdown",
   "metadata": {},
   "source": [
    "#### Unbinned $z$"
   ]
  },
  {
   "cell_type": "code",
   "execution_count": 7,
   "metadata": {},
   "outputs": [],
   "source": [
    "LSSTY1_unbinned_z_file='z_values_unbinned.txt'\n",
    "if not os.path.isfile(LSSTY1_unbinned_z_file):\n",
    "    !wget -O \"$LSSTY1_unbinned_z_file\" \"$data_https\"/\"$LSSTY1_unbinned_z_file\""
   ]
  },
  {
   "cell_type": "markdown",
   "metadata": {},
   "source": [
    "#### Lens sample"
   ]
  },
  {
   "cell_type": "code",
   "execution_count": 8,
   "metadata": {},
   "outputs": [],
   "source": [
    "LSSTY1_lens_z_file='z_bin_centers_y1_lens.txt'\n",
    "if not os.path.isfile(LSSTY1_lens_z_file):\n",
    "    !wget -O \"$LSSTY1_lens_z_file\" \"$data_https\"/\"$LSSTY1_lens_z_file\""
   ]
  },
  {
   "cell_type": "code",
   "execution_count": 9,
   "metadata": {},
   "outputs": [],
   "source": [
    "LSSTY1_lens_nz_file='nz_y1_lens.txt'\n",
    "if not os.path.isfile(LSSTY1_lens_nz_file):\n",
    "    !wget -O \"$LSSTY1_lens_nz_file\" \"$data_https\"/\"$LSSTY1_lens_nz_file\""
   ]
  },
  {
   "cell_type": "markdown",
   "metadata": {},
   "source": [
    "#### Source sample"
   ]
  },
  {
   "cell_type": "code",
   "execution_count": 10,
   "metadata": {},
   "outputs": [],
   "source": [
    "LSSTY1_source_z_file='z_bin_centers_y1_source.txt'\n",
    "if not os.path.isfile(LSSTY1_source_z_file):\n",
    "    !wget -O \"$LSSTY1_source_z_file\" \"$data_https\"/\"$LSSTY1_source_z_file\""
   ]
  },
  {
   "cell_type": "code",
   "execution_count": 11,
   "metadata": {},
   "outputs": [],
   "source": [
    "LSSTY1_source_nz_file='nz_y1_source.txt'\n",
    "if not os.path.isfile(LSSTY1_source_nz_file):\n",
    "    !wget \"$LSSTY1_source_nz_file\" \"$data_https\"/\"$LSSTY1_source_nz_file\""
   ]
  },
  {
   "cell_type": "markdown",
   "metadata": {},
   "source": [
    "### Estimate $n(z)$ in bins from $n(z)$ and $z$ data"
   ]
  },
  {
   "cell_type": "code",
   "execution_count": 12,
   "metadata": {},
   "outputs": [],
   "source": [
    "from numpy import loadtxt\n",
    "\n",
    "zs = loadtxt(LSSTY1_unbinned_z_file)"
   ]
  },
  {
   "cell_type": "markdown",
   "metadata": {},
   "source": [
    "#### Lens sample"
   ]
  },
  {
   "cell_type": "code",
   "execution_count": 13,
   "metadata": {},
   "outputs": [],
   "source": [
    "## Specify the numbers of bins here\n",
    "lens_nbins=5\n",
    "\n",
    "zbin_center_l = loadtxt(LSSTY1_lens_z_file)\n",
    "zbin_edge_l = [0.2,]\n",
    "for i in range(lens_nbins):\n",
    "    zbin_edge_l.append(2.*(zbin_center_l[i]-zbin_edge_l[-1])+zbin_edge_l[-1])\n",
    "zbin_edge_l=np.asarray(zbin_edge_l)\n",
    "zbin_width_l=zbin_edge_l[1:]-zbin_edge_l[:-1]\n",
    "zbin_gauss_sigma_l=0.02\n",
    "binned_nz_l = [loadtxt(LSSTY1_lens_nz_file, usecols=i) for i in range(lens_nbins)]\n",
    "\n",
    "## Currently adopting the same values for both MagLim and redMaGiC samples\n",
    "KDE_bw=0.02 # bandwidth of the KDE\n",
    "KDE_zmax_l=1.2 # the cutoff redshift for lens samples in the KDE\n",
    "\n",
    "nzs_l = [jc.redshift.kde_nz(zs.astype('float64'),\n",
    "                        binned_nz_l[i].astype('float64'), \n",
    "                        bw=KDE_bw,\n",
    "                        gals_per_arcmin2=nz_l(zbin_center_l[i]),\n",
    "                        zmax=KDE_zmax_l)\n",
    "       for i in range(lens_nbins)]"
   ]
  },
  {
   "cell_type": "markdown",
   "metadata": {},
   "source": [
    "#### Source sample"
   ]
  },
  {
   "cell_type": "code",
   "execution_count": 14,
   "metadata": {},
   "outputs": [],
   "source": [
    "## Specify the numbers of bins here\n",
    "source_nbins=5\n",
    "\n",
    "zbin_center_s = loadtxt(LSSTY1_source_z_file)\n",
    "zbin_edge_s = [0.2,]\n",
    "for i in range(source_nbins):\n",
    "    zbin_edge_s.append(2.*(zbin_edge_s[i]-zbin_edge_s[-1])+zbin_edge_s[-1])\n",
    "zbin_edge_s=np.asarray(zbin_edge_s)\n",
    "zbin_width_s=zbin_edge_s[1:]-zbin_edge_s[:-1]\n",
    "zbin_gauss_sigma_s=0.05\n",
    "binned_nz_s = [loadtxt(LSSTY1_source_nz_file, usecols=i) for i in range(source_nbins)]\n",
    "\n",
    "## Currently adopting the same values for both MagLim and redMaGiC samples\n",
    "#KDE_bw=0.02 # bandwidth of the KDE\n",
    "KDE_zmax_s=zs.max() # the cutoff redshift for source samples in the KDE\n",
    "\n",
    "nzs_s = [jc.redshift.kde_nz(zs.astype('float64'),\n",
    "                        binned_nz_s[i].astype('float64'), \n",
    "                        bw=KDE_bw,\n",
    "                        gals_per_arcmin2=nz_s(zbin_center_s[i]),\n",
    "                        zmax=KDE_zmax_s)\n",
    "       for i in range(source_nbins)]"
   ]
  },
  {
   "cell_type": "code",
   "execution_count": 15,
   "metadata": {},
   "outputs": [],
   "source": [
    "## Some reference z and n(z) bins for LSST Y1 source sample\n",
    "\n",
    "nzs_filename='nz_y1_srcs_5bins_srd.txt'\n",
    "\n",
    "test_zs=np.array(loadtxt(nzs_filename,usecols=0))\n",
    "test_nzs=[np.array(loadtxt(nzs_filename,usecols=i+1)) for i in range(source_nbins)]\n",
    "ngals_s = [16.9477,16.8907,17.0179,16.9463,16.9608]\n",
    "\n",
    "#nzs_s = [jc.redshift.kde_nz(zs.astype('float32'),\n",
    "                        #nzs[i].astype('float32'), \n",
    "                        #bw=KDE_bw,\n",
    "                        #gals_per_arcmin2=ngals_s[i],\n",
    "                        #zmax=KDE_zmax_s)\n",
    "       #for i in range(source_nbins)]"
   ]
  },
  {
   "cell_type": "code",
   "execution_count": 16,
   "metadata": {},
   "outputs": [
    {
     "data": {
      "image/png": "[encoded data removed]",
      "text/plain": [
       "<Figure size 1000x1500 with 2 Axes>"
      ]
     },
     "metadata": {},
     "output_type": "display_data"
    }
   ],
   "source": [
    "z = np.linspace(0.,3., 300)\n",
    "fig, ax = plt.subplots(2,1, figsize=(10,15))\n",
    "for i in range(min(len(nzs_s), len(nzs_l))):\n",
    "    ax[0].plot(z, nzs_s[i](z), label='fid., Bin '+str(i+1))\n",
    "    ax[0].plot(test_zs, test_nzs[i], ls='--',label='ref., Bin '+str(i+1))\n",
    "    ax[0].axvline(x=zbin_center_s[i],ls=':',c='silver')\n",
    "    ax[1].plot(z, nzs_l[i](z), label='Bin '+str(i+1))\n",
    "    ax[1].axvline(x=zbin_center_l[i],ls=':',c='silver')\n",
    "    ax[0].set_xlim(0.,3.)\n",
    "    ax[1].set_xlim(0.,3.)\n",
    "    ax[0].set_title('Source')\n",
    "    ax[0].legend(frameon=False)\n",
    "    ax[1].set_title('Lens')\n",
    "    ax[1].legend(frameon=False)\n",
    "    ax[0].set_ylabel(r'$n(z)$')\n",
    "    ax[1].set_ylabel(r'$n(z)$')\n",
    "    ax[0].set_xlabel(r'z')\n",
    "    ax[1].set_xlabel(r'z')"
   ]
  },
  {
   "cell_type": "code",
   "execution_count": null,
   "metadata": {},
   "outputs": [],
   "source": [
    "#print(jc.scipy.integrate.romb(n_source_total, 0, .4509))"
   ]
  },
  {
   "attachments": {},
   "cell_type": "markdown",
   "metadata": {},
   "source": [
    "## Define utility functions that are not yet supported by jax-cosmo but useful for DES analyses "
   ]
  },
  {
   "attachments": {},
   "cell_type": "markdown",
   "metadata": {},
   "source": [
    "### Specify standard input parameter(s)"
   ]
  },
  {
   "cell_type": "code",
   "execution_count": 17,
   "metadata": {},
   "outputs": [],
   "source": [
    "## The number of cosmological parameters in the parameter vector, i.e. the number of cosmo parameters we vary\n",
    "cosmo_param_nr=5"
   ]
  },
  {
   "cell_type": "code",
   "execution_count": 18,
   "metadata": {},
   "outputs": [],
   "source": [
    "import matplotlib.pyplot as plt\n",
    "from matplotlib.patches import Ellipse\n",
    "from jax.scipy.linalg import eigh, inv\n",
    "from jax.scipy.stats import norm\n",
    "\n",
    "def plot_contours(fisher, pos, inds, cls=np.array([0.6827, 0.9545]), ax=None, **kwargs):\n",
    "    \"\"\"\n",
    "    Plot 2D parameter contours given a Hessian matrix of the likelihood\n",
    "    Parameters:\n",
    "    -----------\n",
    "    fisher : (M, M) array_like\n",
    "        Input Fisher matrix.\n",
    "    pos : (M,) array_like\n",
    "        Fiducial parameter values.\n",
    "    inds : (2,) array_like\n",
    "        Parameter indices.\n",
    "    cl1, cl2 : float\n",
    "        Confidence levels of ellipse contours.\n",
    "    \"\"\"\n",
    "    \n",
    "    def eigsorted(cov):\n",
    "        vals, vecs = eigh(cov)\n",
    "        order = vals.argsort()[::-1]\n",
    "        return vals[order], vecs[:, order]\n",
    "\n",
    "    def sigma_marg(cov, i):\n",
    "        return np.sqrt(cov[i, i])\n",
    "\n",
    "    # Argument validation\n",
    "    assert fisher.shape[0] == fisher.shape[1], \"Fisher matrix must be square\"\n",
    "    assert len(pos) == fisher.shape[0], \"Position vector dimension must match Fisher matrix\"\n",
    "    assert len(inds) == 2, \"Indices must specify a 2D slice of the Fisher matrix\"\n",
    "\n",
    "    cov = inv(fisher)\n",
    "    cov = cov[inds][:, inds]\n",
    "    vals, vecs = eigsorted(cov)\n",
    "    theta = np.degrees(np.arctan2(*vecs[:, 0][::-1]))\n",
    "    cls = .5*(1+cls)\n",
    "    nstds = norm.ppf(cls)\n",
    "    #nstd1 = norm.ppf(0.5 * (1 + cl1))\n",
    "    #nstd2 = norm.ppf(0.5 * (1 + cl2))\n",
    "\n",
    "    ellips = []\n",
    "    for nstd in nstds:\n",
    "       ellip = Ellipse(xy=pos[inds], width=2.0 * nstd * np.sqrt(vals[0]),\n",
    "                     height=2.0 * nstd * np.sqrt(vals[1]), angle=theta, **kwargs)\n",
    "       ellips.append(ellip)\n",
    "    '''ellip1 = Ellipse(xy=pos[inds], width=2.0 * nstd1 * np.sqrt(vals[0]),\n",
    "                     height=2.0 * nstd1 * np.sqrt(vals[1]), angle=theta, **kwargs)\n",
    "    ellip2 = Ellipse(xy=pos[inds], width=2.0 * nstd2 * np.sqrt(vals[0]),\n",
    "                     height=2.0 * nstd2 * np.sqrt(vals[1]), angle=theta, **kwargs)'''\n",
    "\n",
    "    if ax is None:\n",
    "        ax = plt.gca()\n",
    "\n",
    "    for ellip in ellips:\n",
    "       ax.add_artist(ellip)\n",
    "\n",
    "    nstdmax = max(nstds)\n",
    "    sx = nstdmax * sigma_marg(cov, 0)\n",
    "    sy = nstdmax * sigma_marg(cov, 1)\n",
    "    ax.set_xlim(pos[inds[0]] - 1.5*sx, pos[inds[0]] + 1.5*sx)\n",
    "    ax.set_ylim(pos[inds[1]] - 1.5*sy, pos[inds[1]] + 1.5*sy)\n",
    "\n",
    "    return ellips\n",
    "\n",
    "def plot_Gaussian(fisher, pos, ind, cl=0.9545, ax=None, **kwargs):\n",
    "  mu = pos[ind]\n",
    "  mat = fisher\n",
    "  cov = np.linalg.inv(mat)\n",
    "  sigma = np.sqrt(cov[ind,ind])\n",
    "  if ax is None:\n",
    "    ax = plt.gca()\n",
    "  num = 100\n",
    "  if 'num' in kwargs.keys():\n",
    "     num = kwargs['num']\n",
    "  nstd = norm.ppf(.5*(1+cl))\n",
    "  x = np.linspace(mu-1.5*nstd*sigma, mu+1.5*nstd*sigma, num=num, endpoint=True)\n",
    "  N = np.exp(-.5*((x-mu)/sigma)**2)\n",
    "  ax.plot(x, N, **kwargs)\n",
    "  ax.set_xlim((x[0], x[-1]))\n",
    "\n",
    "## The correct way to have a varying number of cosmological parameters and number of z bins)\n",
    "## would have been inplementing variables controls that number and including some ```if``` statements\n",
    "## but for the sake of simplicity (and performance) in this example, we're not doing so\n",
    "## and instead specifying that number as a global variable directly above\n",
    "def get_params_vec(cosmo, ia, m_s, dz_s, b_l, dz_l):\n",
    "#def get_params_vec(cosmo, b_l, dz_l):\n",
    "    \"\"\"\n",
    "    Packs cosmological and DES source and lens systematic parameters\n",
    "    into a single 1D parameter vector (stored in a numpy array)\n",
    "    \"\"\"\n",
    "    A, eta = ia\n",
    "    m1, m2, m3, m4, m5 = m_s\n",
    "    dz1_s, dz2_s, dz3_s, dz4_s, dz5_s = dz_s\n",
    "    b1, b2, b3, b4, b5 = b_l\n",
    "    dz1_l, dz2_l, dz3_l, dz4_l, dz5_l = dz_l\n",
    "    return np.array([ \n",
    "        # Cosmological parameters [Omega_c, #Omega_b#, h, sigma8, ns, gamma] \n",
    "        cosmo.Omega_c, cosmo.Omega_b,\n",
    "        cosmo.h, cosmo.sigma8, cosmo.n_s,# cosmo.gamma,\n",
    "        # Source - Galaxy IA\n",
    "        A, eta,\n",
    "        # Source - Shear measurement calibration systematics\n",
    "        m1, m2, m3, m4, m5, \n",
    "        # Source - Photometric redshift calibration systematics\n",
    "        dz1_s, dz2_s, dz3_s, dz4_s, dz5_s,\n",
    "        # Lens - Galaxy bias\n",
    "        b1, b2, b3, b4, b5,\n",
    "        # Lens - Photometric redshift calibration systematics\n",
    "        dz1_l, dz2_l, dz3_l, dz4_l, dz5_l\n",
    "    ])\n",
    "\n",
    "def unpack_params_vec(params):\n",
    "    \"\"\"\n",
    "    Unpacks a 1D parameter vector (stored in a numpy array)\n",
    "    into cosmological and DES source and lens systematic parameters\n",
    "    \"\"\"\n",
    "    # Retrieve cosmology\n",
    "    cosmo = params[0:cosmo_param_nr]\n",
    "    A = params[cosmo_param_nr]\n",
    "    eta = params[cosmo_param_nr+1]\n",
    "    m1,m2,m3,m4,m5 = params[cosmo_param_nr+2:cosmo_param_nr+7]\n",
    "    dz1_s,dz2_s,dz3_s,dz4_s,dz5_s = params[cosmo_param_nr+7:cosmo_param_nr+12]\n",
    "    b1,b2,b3,b4,b5 = params[cosmo_param_nr+12:cosmo_param_nr+17]\n",
    "    dz1_l,dz2_l,dz3_l,dz4_l,dz5_l = params[cosmo_param_nr+17:cosmo_param_nr+22]\n",
    "    return cosmo, [A, eta], [m1,m2,m3,m4,m5], [dz1_s,dz2_s,dz3_s,dz4_s,dz5_s], [b1,b2,b3,b4,b5], [dz1_l,dz2_l,dz3_l,dz4_l,dz5_l]\n",
    "\n",
    "## Uncomment these lines below to double-check the two function behaviors\n",
    "#p = get_params_vec(jc.Planck15(), [1.,2.,3.,4.], [5.,6.,7.,8.],\n",
    "              #[1., 2.,0.62],[0.0,0.0,0.0,0.0],[1.0,1.0,1.0,1.0])\n",
    "#print(unpack_params_vec(p))"
   ]
  },
  {
   "attachments": {},
   "cell_type": "markdown",
   "metadata": {},
   "source": [
    "## Define fiducial cosmological parameters and systematics parameters"
   ]
  },
  {
   "attachments": {},
   "cell_type": "markdown",
   "metadata": {},
   "source": [
    "### Define fiducial cosmology"
   ]
  },
  {
   "attachments": {},
   "cell_type": "markdown",
   "metadata": {},
   "source": [
    "#### Specify Planck18 best-fit cosmology"
   ]
  },
  {
   "attachments": {},
   "cell_type": "markdown",
   "metadata": {},
   "source": [
    "See the ``Plik best fit'' column in Table 1 of [Planck 2018 paper](https://arxiv.org/abs/1807.06209)"
   ]
  },
  {
   "cell_type": "code",
   "execution_count": 19,
   "metadata": {},
   "outputs": [],
   "source": [
    "PL18_h=0.6732\n",
    "PL18_omegacdm=0.12011/(PL18_h**2)\n",
    "PL18_omegab=0.022383/(PL18_h**2) # won't vary in this example\n",
    "PL18_sigma8=0.8120\n",
    "PL18_ns=0.96605\n",
    "## Baseline PL18 assumes LCDM, hence omegak=0, w0=-1,wa=0. Here we specify but won't vary them in the forecasts\n",
    "PL18_omegak=0.0\n",
    "PL18_w0=-1.0\n",
    "PL18_wa=0.0\n",
    "## Gamma Extension\n",
    "## After cross-check the jax-cosmo Fisher contours with the counterparts from CCL, we can include gamma.\n",
    "## The reason not to include gamma in the comparison against CCL is because gamma is not available in CCL\n",
    "GR_gamma=0.55"
   ]
  },
  {
   "attachments": {},
   "cell_type": "markdown",
   "metadata": {},
   "source": [
    "#### Create a jax-cosmo Cosmology object for the fiducial cosmology"
   ]
  },
  {
   "cell_type": "code",
   "execution_count": 20,
   "metadata": {},
   "outputs": [],
   "source": [
    "fid_cosmo = jc.Cosmology(sigma8=PL18_sigma8,\n",
    "                          Omega_c=PL18_omegacdm,\n",
    "                          #Omega_m=PL18_omegacdm+PL18_omegab,\n",
    "                          Omega_b=PL18_omegab,\n",
    "                          h=PL18_h,\n",
    "                          n_s=PL18_ns,\n",
    "                          w0=PL18_w0, Omega_k=PL18_omegak, wa=PL18_wa)#, gamma=GR_gamma)"
   ]
  },
  {
   "cell_type": "markdown",
   "metadata": {},
   "source": [
    "### Specify sky fraction"
   ]
  },
  {
   "cell_type": "markdown",
   "metadata": {},
   "source": [
    "Sky coverage in square degrees and fraction"
   ]
  },
  {
   "cell_type": "code",
   "execution_count": 21,
   "metadata": {},
   "outputs": [],
   "source": [
    "full_sky=41252.9612  # full sky in square degrees\n",
    "lsst_sky=18000  # LSST sky coverage; in square degrees\n",
    "lsst_fsky=0.4363  # fraction of the sky covered by LSST"
   ]
  },
  {
   "attachments": {},
   "cell_type": "markdown",
   "metadata": {},
   "source": [
    "### Specify systematic parameters for source galaxies"
   ]
  },
  {
   "attachments": {},
   "cell_type": "markdown",
   "metadata": {},
   "source": [
    "There are three sources of systematics for source galaxies:\n",
    "\n",
    "- Shear measurement calibration error;\n",
    "- Photometric redshift (photo-z) calibration error;\n",
    "- Intrinsic Alignment (IA) of source galaxies with the underlying tidal field, hence themselves.\n"
   ]
  },
  {
   "attachments": {},
   "cell_type": "markdown",
   "metadata": {},
   "source": [
    "#### Shear measurement calibration systematics"
   ]
  },
  {
   "attachments": {},
   "cell_type": "markdown",
   "metadata": {},
   "source": [
    "We have five parameters $m^i$ for five redshift bins of the source samples.\n",
    "A priori, there is no particular preference for positive or negative shifts so we adopt zeros as fiducial values."
   ]
  },
  {
   "cell_type": "code",
   "execution_count": 22,
   "metadata": {},
   "outputs": [],
   "source": [
    "m_s = [0.,0.,0.,0.,0.]"
   ]
  },
  {
   "attachments": {},
   "cell_type": "markdown",
   "metadata": {},
   "source": [
    "#### Photo-z calibration systematics"
   ]
  },
  {
   "attachments": {},
   "cell_type": "markdown",
   "metadata": {},
   "source": [
    "Similarly, we have four parameters $\\Delta z_s^i$ for four redshift bins of the source samples.A priori, there is no particular preference for positive or negative shifts so we adopt zeros as fiducial values."
   ]
  },
  {
   "cell_type": "code",
   "execution_count": 23,
   "metadata": {},
   "outputs": [],
   "source": [
    "dz_s = [0.0,0.0,0.0,0.0,0.0]"
   ]
  },
  {
   "attachments": {},
   "cell_type": "markdown",
   "metadata": {},
   "source": [
    "#### Intrinsic Alignment (of source galaxies)"
   ]
  },
  {
   "attachments": {},
   "cell_type": "markdown",
   "metadata": {},
   "source": [
    "We use the NLA model for IA:\n",
    "$$A(z)=A_0\\left[\\frac{1+z}{1+z_0}\\right]^\\eta$$\n",
    "where the pivot redshift $z_0$ is fixed at 0.62.\n",
    "For fiducial values, we use the means of posteriors in the third row of Table 3 of [the DES Y3 cosmic shear paper](https://arxiv.org/pdf/2105.13544.pdf)"
   ]
  },
  {
   "cell_type": "code",
   "execution_count": 24,
   "metadata": {},
   "outputs": [],
   "source": [
    "A0, eta = [.5, 0.]\n",
    "z0 = .62"
   ]
  },
  {
   "attachments": {},
   "cell_type": "markdown",
   "metadata": {},
   "source": [
    "### Specify systematic parameters for lens galaxies"
   ]
  },
  {
   "attachments": {},
   "cell_type": "markdown",
   "metadata": {},
   "source": [
    "There are two sources of systematics for lens galaxies:\n",
    "\n",
    "- Photometric redshift calibration error;\n",
    "- Galaxies are biased tracer of the underlying matter distribution."
   ]
  },
  {
   "attachments": {},
   "cell_type": "markdown",
   "metadata": {},
   "source": [
    "#### Photometric (Photo-z) calibration systematics"
   ]
  },
  {
   "attachments": {},
   "cell_type": "markdown",
   "metadata": {},
   "source": [
    "Here, we have five parameters $\\Delta z_l^i$ for five redshift bins of the lens samples. A priori, there is no particular preference for positive or negative shifts so we adopt zeros as fiducial values."
   ]
  },
  {
   "cell_type": "code",
   "execution_count": 25,
   "metadata": {},
   "outputs": [],
   "source": [
    "dz_l = [0.,0.,0.,0.,0.]"
   ]
  },
  {
   "attachments": {},
   "cell_type": "markdown",
   "metadata": {},
   "source": [
    "#### Galaxy bias systematics"
   ]
  },
  {
   "attachments": {},
   "cell_type": "markdown",
   "metadata": {},
   "source": [
    "Here we adopt the fiducial values for the linear galaxy bias parameters $b^i_l$ of lens galaxies from the values assumed in LSST Science Requirement Document, section D1, page 48 ([arXiv:1809.01669](https://arxiv.org/abs/1809.01669))."
   ]
  },
  {
   "cell_type": "code",
   "execution_count": 26,
   "metadata": {},
   "outputs": [],
   "source": [
    "b_l = [1.562362, 1.732963, 1.913252, 2.100644, 2.293210]\n",
    "#b_l =  [1.376695, 1.451179, 1.528404, 1.607983, 1.689579, 1.772899, 1.857700, 1.943754, 2.030887, 2.118943]"
   ]
  },
  {
   "attachments": {},
   "cell_type": "markdown",
   "metadata": {},
   "source": [
    "### Pack a parameter vector including both cosmological and systematic parameters"
   ]
  },
  {
   "cell_type": "code",
   "execution_count": 27,
   "metadata": {},
   "outputs": [],
   "source": [
    "fid_params = get_params_vec(fid_cosmo,\n",
    "                            [A0, eta],\n",
    "                            m_s,\n",
    "                            dz_s,\n",
    "                            b_l,\n",
    "                            dz_l)"
   ]
  },
  {
   "attachments": {},
   "cell_type": "markdown",
   "metadata": {},
   "source": [
    "## Compute the mean of the 3x2-point data vector using the ```jax-cosmo``` library"
   ]
  },
  {
   "attachments": {},
   "cell_type": "markdown",
   "metadata": {},
   "source": [
    "### Specify standard input parameter(s) for the function"
   ]
  },
  {
   "cell_type": "code",
   "execution_count": 28,
   "metadata": {},
   "outputs": [],
   "source": [
    "## Specify a range of multipole ell values\n",
    "ell_max=3000.\n",
    "ell = np.logspace(1,np.log10(ell_max))"
   ]
  },
  {
   "attachments": {},
   "cell_type": "markdown",
   "metadata": {},
   "source": [
    "### Put everything together and define the ```jax-cosmo``` function using just-in-time compilations"
   ]
  },
  {
   "attachments": {},
   "cell_type": "markdown",
   "metadata": {},
   "source": [
    "We perform a quick visual inspection and plot the mean of the first $C(\\ell)$"
   ]
  },
  {
   "cell_type": "code",
   "execution_count": 29,
   "metadata": {},
   "outputs": [],
   "source": [
    "@jax.jit\n",
    "def compute_3x2pt_mean(params,nzs_source,nzs_lens=nzs_l,ell=ell, zpivot_ia = z0):\n",
    "    \"\"\"\n",
    "    Returns the mean signal of a 3x2-point data vector\n",
    "    \"\"\"\n",
    "    ## First unpack parameter vector\n",
    "    cosmo_params, (A, eta), m, dz_s, b_l,  dz_l = unpack_params_vec(params)\n",
    "\n",
    "    ## Specify cosmology\n",
    "    cosmo = jc.Cosmology(Omega_c=cosmo_params[0],\n",
    "                         #Omega_m=cosmo_params[0]+cosmo_params[1],\n",
    "                         Omega_b=cosmo_params[1],\n",
    "                         Omega_k=PL18_omegak,\n",
    "                         h=cosmo_params[2],\n",
    "                         sigma8=cosmo_params[3], \n",
    "                         n_s=cosmo_params[4],\n",
    "                         w0=PL18_w0, wa=PL18_wa)#, gamma = cosmo_params[4])\n",
    "    \n",
    "    ## Build source nz with redshift systematic bias\n",
    "    nzs_s_sys = [jc.redshift.systematic_shift(nzi, dzi) \n",
    "                for nzi, dzi in zip(nzs_source, dz_s)]\n",
    "    ## Define IA model\n",
    "    a_ia = jc.bias.des_y1_ia_bias(A, eta, zpivot_ia)\n",
    "    \n",
    "    ## Build lens nz with redshift systematic bias\n",
    "    nzs_l_sys = [jc.redshift.systematic_shift(nzi, dzi) \n",
    "                for nzi, dzi in zip(nzs_lens, dz_l)]\n",
    "    ## Bias for the lenses\n",
    "    b = [jc.bias.constant_linear_bias(bi) for bi in b_l] \n",
    "\n",
    "    ## Define the lensing and number counts probe\n",
    "    probes = [jc.probes.WeakLensing(nzs_s_sys, \n",
    "                                    ia_bias=a_ia,\n",
    "                                    multiplicative_bias=m),\n",
    "             jc.probes.NumberCounts(nzs_l_sys, b)]\n",
    "\n",
    "    cl = jc.angular_cl.angular_cl(cosmo, ell, probes)\n",
    "\n",
    "    return cl"
   ]
  },
  {
   "attachments": {},
   "cell_type": "markdown",
   "metadata": {},
   "source": [
    "### Call the function for the first time, so there will be some waiting for compilation"
   ]
  },
  {
   "cell_type": "code",
   "execution_count": 30,
   "metadata": {},
   "outputs": [],
   "source": [
    "means = compute_3x2pt_mean(fid_params,nzs_s)\n",
    "#%timeit compute_3x2pt_mean(fid_params,nzs_s).block_until_ready()"
   ]
  },
  {
   "cell_type": "code",
   "execution_count": 32,
   "metadata": {},
   "outputs": [
    {
     "data": {
      "text/plain": [
       "<matplotlib.lines.Line2D at 0x1a594c250>"
      ]
     },
     "execution_count": 32,
     "metadata": {},
     "output_type": "execute_result"
    },
    {
     "data": {
      "image/png": "[encoded data removed]",
      "text/plain": [
       "<Figure size 640x480 with 1 Axes>"
      ]
     },
     "metadata": {},
     "output_type": "display_data"
    }
   ],
   "source": [
    "fig, ax = plt.subplots()\n",
    "ax.loglog(ell,means[0])\n",
    "#ax.set_ylim(1e-20,1e-3)\n",
    "ax.axhline(y=1E-9,ls='--',c='k')\n",
    "ax.axvline(x=1E2,ls='--',c='k')"
   ]
  },
  {
   "attachments": {},
   "cell_type": "markdown",
   "metadata": {},
   "source": [
    "## Compute the covariance at the fiducial cosmology using ```jax-cosmo```"
   ]
  },
  {
   "attachments": {},
   "cell_type": "markdown",
   "metadata": {},
   "source": [
    "### Define the function"
   ]
  },
  {
   "cell_type": "code",
   "execution_count": 33,
   "metadata": {},
   "outputs": [],
   "source": [
    "@jax.jit\n",
    "def compute_gaussian_covariance(params,nzs_source,nzs_lens=nzs_l,ell=ell,f_sky=0.25, zpivot_ia=z0):\n",
    "    \"\"\"\n",
    "    Rerturns the Gaussian covariance for a 3x2pt data vector\n",
    "    \"\"\"\n",
    "    ## First unpack parameter vector\n",
    "    cosmo_params, (A, eta), m, dz_s, b_l, dz_l = unpack_params_vec(params)  \n",
    "\n",
    "    ## Define cosmology\n",
    "    cosmo = jc.Cosmology(Omega_c=cosmo_params[0], \n",
    "                         Omega_b=cosmo_params[1],\n",
    "                         #Omega_m=cosmo_params[0]+cosmo_params[1],\n",
    "                         Omega_k=PL18_omegak,\n",
    "                         h=cosmo_params[2],\n",
    "                         sigma8=cosmo_params[3], \n",
    "                         n_s=cosmo_params[4],\n",
    "                         w0=PL18_w0, wa=PL18_wa)#, gamma = cosmo_params[4])\n",
    "    \n",
    "    ## Build source nz with redshift systematic bias\n",
    "    nzs_s_sys = [jc.redshift.systematic_shift(nzi, dzi) \n",
    "                for nzi, dzi in zip(nzs_source, dz_s)]\n",
    "    ## Define IA model\n",
    "    a_ia = jc.bias.des_y1_ia_bias(A, eta, zpivot_ia)\n",
    "    \n",
    "    ## Build lens nz with redshift systematic bias\n",
    "    nzs_l_sys = [jc.redshift.systematic_shift(nzi, dzi) \n",
    "                for nzi, dzi in zip(nzs_lens, dz_l)]\n",
    "    ## Bias for the lenses\n",
    "    b = [jc.bias.constant_linear_bias(bi) for bi in b_l]\n",
    "\n",
    "    ## Define the lensing and number counts probe\n",
    "    probes = [jc.probes.WeakLensing(nzs_s_sys, \n",
    "                                    ia_bias=a_ia,\n",
    "                                    multiplicative_bias=m),\n",
    "             jc.probes.NumberCounts(nzs_l_sys, b)]\n",
    "    \n",
    "    cl_signal = jc.angular_cl.angular_cl(cosmo, ell, probes)\n",
    "    cl_noise = jc.angular_cl.noise_cl(ell, probes)\n",
    "    \n",
    "    cov = jc.angular_cl.gaussian_cl_covariance(ell, probes, cl_signal, cl_noise, f_sky=f_sky, sparse=False)\n",
    "    \n",
    "    return cov"
   ]
  },
  {
   "attachments": {},
   "cell_type": "markdown",
   "metadata": {},
   "source": [
    "### Call the function to get the covariance and compute its inverse"
   ]
  },
  {
   "attachments": {},
   "cell_type": "markdown",
   "metadata": {},
   "source": [
    "The inverse of the covariance matrix is usually referred to as the *precision matrix*."
   ]
  },
  {
   "cell_type": "code",
   "execution_count": 34,
   "metadata": {},
   "outputs": [],
   "source": [
    "cov_mat = compute_gaussian_covariance(fid_params,nzs_s, f_sky = lsst_fsky)\n",
    "prc_mat = np.linalg.inv(cov_mat)"
   ]
  },
  {
   "attachments": {},
   "cell_type": "markdown",
   "metadata": {},
   "source": [
    "## Compute the Jacobian using jax-cosmo"
   ]
  },
  {
   "attachments": {},
   "cell_type": "markdown",
   "metadata": {},
   "source": [
    "We wrote a function to compute the mean of the 3x2-point data vector. We can use that to compute the Jacobian using ```jax-cosmo```"
   ]
  },
  {
   "cell_type": "markdown",
   "metadata": {},
   "source": [
    "Let's redefine the function to compute the mean data vector above, this time flatten the output."
   ]
  },
  {
   "cell_type": "code",
   "execution_count": 35,
   "metadata": {},
   "outputs": [],
   "source": [
    "@jax.jit\n",
    "def compute_3x2pt_mean(params,nzs_source,nzs_lens=nzs_l,ell=ell, zpivot_ia = z0):\n",
    "    \"\"\"\n",
    "    Returns the mean signal of a 3x2-point data vector\n",
    "    \"\"\"\n",
    "    ## First unpack parameter vector\n",
    "    cosmo_params, (A, eta), m, dz_s, b_l,  dz_l = unpack_params_vec(params)\n",
    "\n",
    "    ## Specify cosmology\n",
    "    cosmo = jc.Cosmology(Omega_c=cosmo_params[0],\n",
    "                         #Omega_m=cosmo_params[0]+cosmo_params[1],\n",
    "                         Omega_b=cosmo_params[1],\n",
    "                         Omega_k=PL18_omegak,\n",
    "                         h=cosmo_params[2],\n",
    "                         sigma8=cosmo_params[3], \n",
    "                         n_s=cosmo_params[4],\n",
    "                         w0=PL18_w0, wa=PL18_wa)#, gamma = cosmo_params[4])\n",
    "    \n",
    "    ## Build source nz with redshift systematic bias\n",
    "    nzs_s_sys = [jc.redshift.systematic_shift(nzi, dzi) \n",
    "                for nzi, dzi in zip(nzs_source, dz_s)]\n",
    "    ## Define IA model\n",
    "    a_ia = jc.bias.des_y1_ia_bias(A, eta, zpivot_ia)\n",
    "    \n",
    "    ## Build lens nz with redshift systematic bias\n",
    "    nzs_l_sys = [jc.redshift.systematic_shift(nzi, dzi) \n",
    "                for nzi, dzi in zip(nzs_lens, dz_l)]\n",
    "    ## Bias for the lenses\n",
    "    b = [jc.bias.constant_linear_bias(bi) for bi in b_l] \n",
    "\n",
    "    ## Define the lensing and number counts probe\n",
    "    probes = [jc.probes.WeakLensing(nzs_s_sys, \n",
    "                                    ia_bias=a_ia,\n",
    "                                    multiplicative_bias=m),\n",
    "             jc.probes.NumberCounts(nzs_l_sys, b)]\n",
    "\n",
    "    cl = jc.angular_cl.angular_cl(cosmo, ell, probes)\n",
    "\n",
    "    return cl.flatten()"
   ]
  },
  {
   "cell_type": "code",
   "execution_count": 36,
   "metadata": {},
   "outputs": [],
   "source": [
    "# Defining jax-cosmo jacobian\n",
    "compute_3x2pt_jac = jax.jit(jax.jacfwd(compute_3x2pt_mean))\n",
    "#compute_3x2pt_jac = jax.jacfwd(compute_3x2pt_mean)"
   ]
  },
  {
   "cell_type": "code",
   "execution_count": 37,
   "metadata": {},
   "outputs": [],
   "source": [
    "jacobian = compute_3x2pt_jac(fid_params,nzs_s,nzs_lens=nzs_l)\n",
    "#%timeit compute_3x2pt_jac(fid_params,nzs_s).block_until_ready()"
   ]
  },
  {
   "cell_type": "code",
   "execution_count": 38,
   "metadata": {},
   "outputs": [
    {
     "name": "stdout",
     "output_type": "stream",
     "text": [
      "[[ 8.15183618e-09  2.42618933e-08 -3.71053558e-09 ...  0.00000000e+00\n",
      "   0.00000000e+00  0.00000000e+00]\n",
      " [ 8.21086316e-09  2.11210389e-08 -3.08264662e-09 ...  0.00000000e+00\n",
      "   0.00000000e+00  0.00000000e+00]\n",
      " [ 8.13127127e-09  1.82927786e-08 -2.52482822e-09 ...  0.00000000e+00\n",
      "   0.00000000e+00  0.00000000e+00]\n",
      " ...\n",
      " [ 1.60698872e-07 -7.88145996e-08  6.15185811e-08 ...  0.00000000e+00\n",
      "   0.00000000e+00 -1.69994274e-07]\n",
      " [ 1.46782530e-07 -7.40479921e-08  5.72173165e-08 ...  0.00000000e+00\n",
      "   0.00000000e+00 -1.52097432e-07]\n",
      " [ 1.34163608e-07 -6.92191867e-08  5.31321451e-08 ...  0.00000000e+00\n",
      "   0.00000000e+00 -1.34981366e-07]]\n"
     ]
    }
   ],
   "source": [
    "print(jacobian)"
   ]
  },
  {
   "cell_type": "code",
   "execution_count": 39,
   "metadata": {},
   "outputs": [
    {
     "name": "stdout",
     "output_type": "stream",
     "text": [
      "(Array([], dtype=int64), Array([], dtype=int64))\n"
     ]
    }
   ],
   "source": [
    "print(np.where(np.isnan(jacobian)==True))"
   ]
  },
  {
   "cell_type": "code",
   "execution_count": null,
   "metadata": {},
   "outputs": [],
   "source": [
    "## Compute Jacobian using reverse mode of AD as a cross-check, might run into memory issue\n",
    "#compute_3x2pt_jac_rev = jax.jit(jax.jacrev(compute_3x2pt_mean))\n",
    "#jacobian_rev = compute_3x2pt_jac(fid_params,nzs_s)\n",
    "#print(jacobian_rev)"
   ]
  },
  {
   "attachments": {},
   "cell_type": "markdown",
   "metadata": {},
   "source": [
    "## Compute Fisher matrix"
   ]
  },
  {
   "cell_type": "code",
   "execution_count": null,
   "metadata": {},
   "outputs": [],
   "source": [
    "@jax.jit\n",
    "def likelihood(p,data,nzs_source,nzs_lens=nzs_l,ell=ell,f_sky=0.25, zpivot_ia=z0):\n",
    "    ## Unpack parameter vector\n",
    "    cosmo_params, (A, eta), m, dz_s, b_l, dz_l = unpack_params_vec(p) \n",
    "    ## Specify cosmology\n",
    "    cosmo = jc.Cosmology(Omega_c=cosmo_params[0], \n",
    "                         Omega_b=cosmo_params[1],\n",
    "                         Omega_m=cosmo_params[0]+cosmo_params[1],\n",
    "                         Omega_k=PL18_omegak,\n",
    "                         h=cosmo_params[2],\n",
    "                         sigma8=cosmo_params[3], \n",
    "                         n_s=cosmo_params[4],\n",
    "                         w0=PL18_w0, wa=PL18_wa)#, gamma = cosmo_params[4])\n",
    "\n",
    "    ## Build source nz with redshift systematic bias\n",
    "    nzs_s_sys = [jc.redshift.systematic_shift(nzi, dzi) \n",
    "                for nzi, dzi in zip(nzs_source, dz_s)]\n",
    "    ## Define IA model\n",
    "    a_ia = jc.bias.des_y1_ia_bias(A, eta, zpivot_ia)\n",
    "    \n",
    "    ## Build lens nz with redshift systematic bias\n",
    "    nzs_l_sys = [jc.redshift.systematic_shift(nzi, dzi) \n",
    "                for nzi, dzi in zip(nzs_lens, dz_l)]\n",
    "    ## Bias for the lenses\n",
    "    b = [jc.bias.constant_linear_bias(bi) for bi in b_l]\n",
    "\n",
    "    ## Define the lensing and number counts probe\n",
    "    probes = [jc.probes.WeakLensing(nzs_s_sys, \n",
    "                                    ia_bias=a_ia,\n",
    "                                    multiplicative_bias=m),\n",
    "             jc.probes.NumberCounts(nzs_l_sys, b)]\n",
    "    \n",
    "    # Compute mean and covariance of angular Cls\n",
    "    mu, C = jc.angular_cl.gaussian_cl_covariance_and_mean(cosmo, ell, probes, f_sky=f_sky, sparse=True)\n",
    "    # Return likelihood value assuming constant covariance, so we stop the gradient\n",
    "    # at the level of the precision matrix, and we will not include the logdet term\n",
    "    # in the likelihood\n",
    "    P = jc.sparse.inv(jax.lax.stop_gradient(C))\n",
    "    r = data - mu\n",
    "    return -0.5 * r.T @ jc.sparse.sparse_dot_vec(P, r)"
   ]
  },
  {
   "cell_type": "code",
   "execution_count": null,
   "metadata": {},
   "outputs": [],
   "source": [
    "# Compile a function that computes the Hessian of the likelihood\n",
    "hessian_loglik = jax.jit(jax.hessian(likelihood))\n",
    "F = - hessian_loglik(fid_params,means,nzs_s)"
   ]
  },
  {
   "cell_type": "code",
   "execution_count": null,
   "metadata": {},
   "outputs": [],
   "source": [
    "hessian_loglik(fid_params,means,nzs_s).block_until_ready()"
   ]
  },
  {
   "cell_type": "code",
   "execution_count": null,
   "metadata": {},
   "outputs": [],
   "source": [
    "print(F)"
   ]
  },
  {
   "attachments": {},
   "cell_type": "markdown",
   "metadata": {},
   "source": [
    "Putting the mean and covariance together, we can now compute the Fisher matrix.\n",
    "NOTE: This is, strictly speaking, only valid for Gaussian likelihoods. With ```jax-cosmo``` there is another way to compute the Fisher matrix wherein users manually define their likelihood. We will explore it below as a double-check."
   ]
  },
  {
   "cell_type": "code",
   "execution_count": null,
   "metadata": {},
   "outputs": [],
   "source": [
    "## Take the matrix product\n",
    "fisher = jacobian.T @ prc_mat @ jacobian\n",
    "print(fisher.shape)"
   ]
  },
  {
   "cell_type": "code",
   "execution_count": null,
   "metadata": {},
   "outputs": [],
   "source": [
    "print(fisher)"
   ]
  },
  {
   "attachments": {},
   "cell_type": "markdown",
   "metadata": {},
   "source": [
    "```fisher``` is the full Fisher matrix. Below we can plot the whole matrix for a quick visual inspection. There should be no complain about any ```NaN``` of ```Inf``` when estimating the contours.\n",
    "\n",
    "NOTE: This can take a while for a large Fisher matrix."
   ]
  },
  {
   "cell_type": "code",
   "execution_count": null,
   "metadata": {},
   "outputs": [],
   "source": [
    "fig= plt.figure(figsize=(fisher.shape[0]*1.5, fisher.shape[1]*1.5))\n",
    "plt.rcParams.update({\n",
    "    \"font.size\": 10})\n",
    "\n",
    "for i in range(fisher.shape[0]):\n",
    "    for j in range(fisher.shape[1]):\n",
    "        if j<i:\n",
    "            plt.subplot(fisher.shape[0],fisher.shape[1],i*fisher.shape[0]+j+1)\n",
    "            plot_contours(fisher, fid_params, np.array([j,i]),fill=False,color='C0')\n",
    "        if j==i:\n",
    "            plt.subplot(fisher.shape[0], fisher.shape[1], i*fisher.shape[0]+j+1)\n",
    "            plot_Gaussian(fisher, fid_params, i, color='C0', nstd=2)\n",
    "fig.suptitle('LSST GC', fontsize=100)"
   ]
  },
  {
   "cell_type": "code",
   "execution_count": null,
   "metadata": {},
   "outputs": [],
   "source": [
    "param_names = (r'$\\Omega_\\mathrm{c}$', r'$\\Omega_\\mathrm{b}$', 'h', r'$\\sigma_8$', r'$n_s$', r'$\\gamma$')\n",
    "F_cosmo_only = np.linalg.inv(np.linalg.inv(fisher)[:cosmo_param_nr, :cosmo_param_nr])\n",
    "fid_params_subset = fid_params[:F_cosmo_only.shape[0]]\n",
    "\n",
    "fig= plt.figure(figsize=((F_cosmo_only.shape[0]+1)*4, (F_cosmo_only.shape[1]+1)*4))\n",
    "plt.rcParams.update({\n",
    "    \"font.size\": 10})\n",
    "\n",
    "axes = []\n",
    "\n",
    "for i in range(F_cosmo_only.shape[0]):\n",
    "    for j in range(F_cosmo_only.shape[1]):\n",
    "        #print(str(i)+','+str(j))\n",
    "        if j<i:\n",
    "            ax = plt.subplot(F_cosmo_only.shape[0],F_cosmo_only.shape[1],i*F_cosmo_only.shape[0]+j+1)\n",
    "            if j==0 or i==F_cosmo_only.shape[0]-1:\n",
    "                axes.append(ax)\n",
    "            plot_contours(F_cosmo_only, fid_params_subset, np.array([j,i]), ax=ax, fill=False,color='C0')\n",
    "        if j==i:\n",
    "            ax = plt.subplot(F_cosmo_only.shape[0],F_cosmo_only.shape[1],i*F_cosmo_only.shape[0]+j+1)\n",
    "            if j==(cosmo_param_nr-1) or j==0:\n",
    "                axes.append(ax)\n",
    "            plot_Gaussian(F_cosmo_only, fid_params, i, ax=ax, nstd=2, color='C0')\n",
    "for i in np.arange(cosmo_param_nr):\n",
    "    axes[i].set_ylabel(param_names[i], fontsize='xx-large')\n",
    "    axes[i+cosmo_param_nr-1].set_xlabel(param_names[i], fontsize='xx-large')\n",
    "\n",
    "fig.suptitle('LSST GC', fontsize=100)"
   ]
  },
  {
   "attachments": {},
   "cell_type": "markdown",
   "metadata": {},
   "source": [
    "## Compute Fisher matrix -- Alternative Method #2, using finite differencing and the [DESC Core Cosmology Library](https://github.com/LSSTDESC/CCL) ```CCL```"
   ]
  },
  {
   "attachments": {},
   "cell_type": "markdown",
   "metadata": {},
   "source": [
    "To gain more confidence on the Fisher evaluation and inversion by ```jax-cosmo``` and the ```autodiff``` approach, we can cross-check results with the same outputs from the finite differencing approach using ```CCL```.\n",
    "\n",
    "NOTE: Use a very fine sampling grid in finite differencing to ensure accuracy."
   ]
  },
  {
   "attachments": {},
   "cell_type": "markdown",
   "metadata": {},
   "source": [
    "### Specify standard input parameter(s) for the function"
   ]
  },
  {
   "cell_type": "code",
   "execution_count": null,
   "metadata": {},
   "outputs": [],
   "source": [
    "raise Exception('Stop!')"
   ]
  },
  {
   "cell_type": "code",
   "execution_count": null,
   "metadata": {},
   "outputs": [],
   "source": [
    "zsamp = np.linspace(0.,4.,2048)\n",
    "cosmo_params = [PL18_omegacdm,PL18_h,PL18_sigma8,PL18_ns]"
   ]
  },
  {
   "attachments": {},
   "cell_type": "markdown",
   "metadata": {},
   "source": [
    "### Define utility function(s) to use with CCL"
   ]
  },
  {
   "cell_type": "code",
   "execution_count": null,
   "metadata": {},
   "outputs": [],
   "source": [
    "# Define IA bias for DES Y1\n",
    "def des_y1_ia_bias(z, A, eta, z0=0.62):\n",
    "    \"\"\"\n",
    "    https://arxiv.org/pdf/1708.01538.pdf Sec. VII.B\n",
    "    Parameters:\n",
    "    -----------\n",
    "    A: amplitude\n",
    "    eta: redshift dependent slope\n",
    "    z0: pivot redshift\n",
    "    \"\"\"\n",
    "    return A * ((1.0 + z) / (1.0 + z0)) ** eta"
   ]
  },
  {
   "attachments": {},
   "cell_type": "markdown",
   "metadata": {},
   "source": [
    "### Define the function to compute the mean of the 3x2-point data vector"
   ]
  },
  {
   "attachments": {},
   "cell_type": "markdown",
   "metadata": {},
   "source": [
    "This is exactly the same function as above, only built with ```CCL``` and finite-differencing instead of ```jax-cosmo``` and ```autodiff```."
   ]
  },
  {
   "cell_type": "code",
   "execution_count": null,
   "metadata": {},
   "outputs": [],
   "source": [
    "def ccl_3x2pt_mean(params,nzs_source,nzs_lens=nzs_l,ell=ell,zpivot_ia=z0,f_sky=0.25):\n",
    "    \"\"\"\n",
    "    Returns the mean data vector provided a set of\n",
    "    cosmological and nuisance parameters, using CCL\n",
    "    \"\"\"\n",
    "    cosmo_params, (A, eta), m, dz_s, b_l, dz_l = unpack_params_vec(params)\n",
    "    ## We define the cosmology\n",
    "    ## here we need to explicitly convert the ArrayImpl elements into float as CCL enforces type ```double``` for these parameters\n",
    "    cosmo_ccl = ccl.Cosmology(\n",
    "        Omega_c=float(cosmo_params[0]), Omega_b=float(PL18_omegab),\n",
    "        h=float(cosmo_params[1]), \n",
    "        sigma8=float(cosmo_params[2]),\n",
    "        n_s=float(cosmo_params[3]),\n",
    "        #w0=PL18_w0, wa=PL18_wa,\n",
    "        #Neff=0.,\n",
    "        transfer_function='eisenstein_hu', \n",
    "        matter_power_spectrum='halofit')\n",
    "    \n",
    "    # Build source nz with redshift systematic bias\n",
    "    # Uses same function as jax-cosmo to ensure consistency\n",
    "    nzs_s_sys = [jc.redshift.systematic_shift(nzi, dzi) \n",
    "                for nzi, dzi in zip(nzs_s, dz_s)]\n",
    "    \n",
    "    # We build the tracers for each redshift bins\n",
    "    tracers = [ccl.WeakLensingTracer(cosmo_ccl, (zsamp, nzs_s_sys[i](zsamp)),\n",
    "                                     ia_bias=(zsamp, des_y1_ia_bias(zsamp, A, eta))) for i in range(len(nzs_source))]\n",
    "    # And we keep track of a term for multiplicative biases, for shear only\n",
    "    m_biases = [1.+m[i] for i in range(5)]\n",
    "    m_biases += [1. for i in range(5)]\n",
    "\n",
    "    ## Build lens nz with redshift systematic bias\n",
    "    nzs_l_sys = [jc.redshift.systematic_shift(nzi, dzi) \n",
    "                for nzi, dzi in zip(nzs_lens, dz_l)]\n",
    "    tracers += [ccl.NumberCountsTracer(cosmo_ccl,\n",
    "                                       has_rsd=False,\n",
    "                                       dndz=(zsamp, nzs_l_sys[i](zsamp)),\n",
    "                                       bias=(zsamp, b_l[i]*np.ones_like(zsamp))) for i in range(len(nzs_lens))]\n",
    "    n_tracers = len(tracers)\n",
    "    \n",
    "    # Compute all cross correlations\n",
    "    cls = []\n",
    "    for i in range(n_tracers):\n",
    "        for j in range(i, n_tracers):\n",
    "            cls.append(ccl.angular_cl(cosmo_ccl, tracers[i], tracers[j], ell)*m_biases[i]*m_biases[j])\n",
    "\n",
    "    return np.concatenate(cls)"
   ]
  },
  {
   "attachments": {},
   "cell_type": "markdown",
   "metadata": {},
   "source": [
    "### Call the function to compute the mean prediction at the *same* set of fiducial parameters used above"
   ]
  },
  {
   "cell_type": "code",
   "execution_count": null,
   "metadata": {},
   "outputs": [],
   "source": [
    "ccl_means = ccl_3x2pt_mean(fid_params,nzs_s)"
   ]
  },
  {
   "attachments": {},
   "cell_type": "markdown",
   "metadata": {},
   "source": [
    "### Compare the mean predictions between ```CCL``` and ```jax-cosmo```"
   ]
  },
  {
   "attachments": {},
   "cell_type": "markdown",
   "metadata": {},
   "source": [
    "#### All range, absolute value"
   ]
  },
  {
   "cell_type": "code",
   "execution_count": null,
   "metadata": {},
   "outputs": [],
   "source": [
    "fig,ax=plt.subplots()\n",
    "ax.semilogy(abs(means),ls='-',color='C0',label='jax-cosmo')\n",
    "ax.semilogy(abs(ccl_means),ls='--',color='C1',label='CCL')\n",
    "ax.set_ylim(1e-14,1e-3)\n",
    "ax.legend(frameon=False)"
   ]
  },
  {
   "attachments": {},
   "cell_type": "markdown",
   "metadata": {},
   "source": [
    "#### High multipoles"
   ]
  },
  {
   "cell_type": "code",
   "execution_count": null,
   "metadata": {},
   "outputs": [],
   "source": [
    "fig,ax=plt.subplots()\n",
    "ax.semilogy(means[50*30:],ls='-',color='C0',label=r'jax-cosmo')\n",
    "ax.semilogy(ccl_means[50*30:],ls='--',color='C1',label=r'CCL')\n",
    "ax.legend(frameon=False)"
   ]
  },
  {
   "attachments": {},
   "cell_type": "markdown",
   "metadata": {},
   "source": [
    "### Compute the Jacobian and Fisher matrices by finite differencing"
   ]
  },
  {
   "attachments": {},
   "cell_type": "markdown",
   "metadata": {},
   "source": [
    "#### Define the Jacobian"
   ]
  },
  {
   "cell_type": "code",
   "execution_count": null,
   "metadata": {},
   "outputs": [],
   "source": [
    "import numdifftools as nd\n",
    "# Defining CCL jacobian\n",
    "ccl_3x2pt_jac = nd.Jacobian(ccl_3x2pt_mean, step=0.002)"
   ]
  },
  {
   "attachments": {},
   "cell_type": "markdown",
   "metadata": {},
   "source": [
    "#### Compute Jacobian at fiducial parameter values"
   ]
  },
  {
   "cell_type": "code",
   "execution_count": null,
   "metadata": {},
   "outputs": [],
   "source": [
    "ccl_jacobian = ccl_3x2pt_jac(fid_params,nzs_s)"
   ]
  },
  {
   "attachments": {},
   "cell_type": "markdown",
   "metadata": {},
   "source": [
    "#### Visualization and comparison between ```CCL``` and ```jax-cosmo``` Jacobians"
   ]
  },
  {
   "cell_type": "code",
   "execution_count": null,
   "metadata": {},
   "outputs": [],
   "source": [
    "fig,ax=plt.subplots()\n",
    "ax.semilogy(abs(jacobian[:,0]),ls='-',color='C0',label=r'jax-cosmo')\n",
    "ax.semilogy(abs(ccl_jacobian[:,0]),ls='--',color='C1',label=r'CCL')\n",
    "ax.legend(frameon=False)"
   ]
  },
  {
   "attachments": {},
   "cell_type": "markdown",
   "metadata": {},
   "source": [
    "#### Compute the Fisher matrix"
   ]
  },
  {
   "attachments": {},
   "cell_type": "markdown",
   "metadata": {},
   "source": [
    "We reuse the precision matrix computed earlier using ```jax-cosmo```"
   ]
  },
  {
   "cell_type": "code",
   "execution_count": null,
   "metadata": {},
   "outputs": [],
   "source": [
    "ccl_fisher = ccl_jacobian.T @ prc_mat @ ccl_jacobian\n",
    "print(ccl_fisher.shape)"
   ]
  },
  {
   "cell_type": "code",
   "execution_count": null,
   "metadata": {},
   "outputs": [],
   "source": [
    "print(ccl_fisher)"
   ]
  },
  {
   "attachments": {},
   "cell_type": "markdown",
   "metadata": {},
   "source": [
    "### Compare the Fisher matrices from ```CCL``` and ```jax-cosmo```"
   ]
  },
  {
   "cell_type": "code",
   "execution_count": null,
   "metadata": {},
   "outputs": [],
   "source": [
    "fig= plt.figure(figsize=(ccl_fisher.shape[0], ccl_fisher.shape[1]))\n",
    "plt.rcParams.update({\n",
    "    \"font.size\": 10})\n",
    "\n",
    "for i in range(ccl_fisher.shape[0]):\n",
    "    for j in range(ccl_fisher.shape[1]):\n",
    "        if j<i:\n",
    "            plt.subplot(ccl_fisher.shape[0],ccl_fisher.shape[1],i*ccl_fisher.shape[0]+j+1)\n",
    "            #plot_contours(fisher, fid_params, np.array([j,i]),fill=False,ls='-',color='C0')\n",
    "            plot_contours(ccl_fisher, fid_params, np.array([j,i]),fill=False,ls='--',color='C1')"
   ]
  },
  {
   "cell_type": "code",
   "execution_count": null,
   "metadata": {},
   "outputs": [],
   "source": [
    "param_names = (r'$\\Omega_\\mathrm{CDM}$', 'h', r'$\\sigma_8$', r'$n_s$')\n",
    "F_cosmo_only = np.linalg.inv(np.linalg.inv(ccl_fisher)[:cosmo_param_nr, :cosmo_param_nr])\n",
    "fig= plt.figure(figsize=(F_cosmo_only.shape[0]*4, F_cosmo_only.shape[1]*4))\n",
    "plt.rcParams.update({\n",
    "    \"font.size\": 10})\n",
    "\n",
    "axes = []\n",
    "\n",
    "for i in range(F_cosmo_only.shape[0]):\n",
    "    for j in range(F_cosmo_only.shape[1]):\n",
    "        if j<i:\n",
    "            ax = plt.subplot(F_cosmo_only.shape[0],F_cosmo_only.shape[1],i*F_cosmo_only.shape[0]+j+1)\n",
    "            if j==0 or i==F_cosmo_only.shape[0]-1:\n",
    "                axes.append(ax)\n",
    "            plot_contours(F_cosmo_only, fid_params, np.array([j,i]),fill=False, nstd=1, color='C1', ls='--')\n",
    "            plot_contours(F_cosmo_only, fid_params, np.array([j,i]),fill=False, nstd=2, color='C1', ls='--')\n",
    "for i in range(cosmo_param_nr-1):\n",
    "    axes[i].set_ylabel(param_names[i+1], fontsize='xx-large')\n",
    "    axes[i+cosmo_param_nr-2].set_xlabel(param_names[i], fontsize='xx-large')"
   ]
  },
  {
   "cell_type": "code",
   "execution_count": null,
   "metadata": {},
   "outputs": [],
   "source": []
  }
 ],
 "metadata": {
  "kernelspec": {
   "display_name": "Python 3 (ipykernel)",
   "language": "python",
   "name": "python3"
  },
  "language_info": {
   "codemirror_mode": {
    "name": "ipython",
    "version": 3
   },
   "file_extension": ".py",
   "mimetype": "text/x-python",
   "name": "python",
   "nbconvert_exporter": "python",
   "pygments_lexer": "ipython3",
   "version": "3.11.4"
  }
 },
 "nbformat": 4,
 "nbformat_minor": 4
}
